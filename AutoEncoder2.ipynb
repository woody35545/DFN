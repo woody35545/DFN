{
 "cells": [
  {
   "cell_type": "code",
   "execution_count": 65,
   "id": "128659e2",
   "metadata": {},
   "outputs": [],
   "source": [
    "import numpy as np\n",
    "import pandas as pd\n",
    "import matplotlib.pyplot as plt\n",
    "%matplotlib inline\n",
    "\n",
    "from os.path import join\n",
    "\n",
    "import tensorflow as tf\n",
    "from tensorflow.keras import layers, models, optimizers\n",
    "from tensorflow.keras.utils import to_categorical\n"
   ]
  },
  {
   "cell_type": "code",
   "execution_count": 66,
   "id": "6bffc776",
   "metadata": {},
   "outputs": [
    {
     "name": "stdout",
     "output_type": "stream",
     "text": [
      "최대: 1.0, 최소: 0.0\n"
     ]
    }
   ],
   "source": [
    "datax = np.load(join('data', 'MNIST.npy'))\n",
    "datay = np.load(join('data', 'Label.npy'))\n",
    "datax_norm = datax/255\n",
    "print('최대: {}, 최소: {}'.format(np.max(datax_norm), np.min(datax_norm)))\n",
    "\n",
    "datax_reshape = datax_norm.reshape([60000,28*28])"
   ]
  },
  {
   "cell_type": "code",
   "execution_count": 93,
   "id": "afe12e80",
   "metadata": {},
   "outputs": [],
   "source": [
    "# Input\n",
    "input_shape = (28*28,)\n",
    "input_tensor = layers.Input(input_shape)\n",
    "\n",
    "# Encoder\n",
    "encoder1 = layers.Dense(700, activation = 'relu')(input_tensor)\n",
    "encoder2 = layers.Dense(500, activation = 'relu')(encoder1)\n",
    "encoder3 = layers.Dense(225, activation = 'relu', name = 'latent_layer')(encoder2)\n",
    "latent_tensor = encoder3\n",
    "\n",
    "# Decoder\n",
    "decoder1 = layers.Dense(500, activation='relu')(latent_tensor)\n",
    "decoder2 = layers.Dense(700, activation='relu')(decoder1)\n",
    "\n",
    "# Outputs\n",
    "reconstruction_output = layers.Dense(28*28, activation='relu')(decoder2)"
   ]
  },
  {
   "cell_type": "code",
   "execution_count": 94,
   "id": "56fa269d",
   "metadata": {},
   "outputs": [
    {
     "name": "stdout",
     "output_type": "stream",
     "text": [
      "Model: \"model_10\"\n",
      "_________________________________________________________________\n",
      " Layer (type)                Output Shape              Param #   \n",
      "=================================================================\n",
      " input_7 (InputLayer)        [(None, 784)]             0         \n",
      "                                                                 \n",
      " dense_25 (Dense)            (None, 700)               549500    \n",
      "                                                                 \n",
      " dense_26 (Dense)            (None, 500)               350500    \n",
      "                                                                 \n",
      " latent_layer (Dense)        (None, 225)               112725    \n",
      "                                                                 \n",
      " dense_27 (Dense)            (None, 500)               113000    \n",
      "                                                                 \n",
      " dense_28 (Dense)            (None, 700)               350700    \n",
      "                                                                 \n",
      " dense_29 (Dense)            (None, 784)               549584    \n",
      "                                                                 \n",
      "=================================================================\n",
      "Total params: 2,026,009\n",
      "Trainable params: 2,026,009\n",
      "Non-trainable params: 0\n",
      "_________________________________________________________________\n"
     ]
    }
   ],
   "source": [
    "ae = models.Model(input_tensor, reconstruction_output)\n",
    "ae.compile(optimizer = 'Adam', loss = 'mse')\n",
    "ae.summary()"
   ]
  },
  {
   "cell_type": "code",
   "execution_count": 95,
   "id": "8b7464f6",
   "metadata": {},
   "outputs": [
    {
     "name": "stdout",
     "output_type": "stream",
     "text": [
      "Epoch 1/10\n",
      "59/59 - 4s - loss: 0.0483 - 4s/epoch - 70ms/step\n",
      "Epoch 2/10\n",
      "59/59 - 4s - loss: 0.0198 - 4s/epoch - 61ms/step\n",
      "Epoch 3/10\n",
      "59/59 - 8s - loss: 0.0141 - 8s/epoch - 134ms/step\n",
      "Epoch 4/10\n",
      "59/59 - 9s - loss: 0.0122 - 9s/epoch - 158ms/step\n",
      "Epoch 5/10\n",
      "59/59 - 11s - loss: 0.0109 - 11s/epoch - 180ms/step\n",
      "Epoch 6/10\n",
      "59/59 - 12s - loss: 0.0100 - 12s/epoch - 198ms/step\n",
      "Epoch 7/10\n",
      "59/59 - 9s - loss: 0.0094 - 9s/epoch - 160ms/step\n",
      "Epoch 8/10\n",
      "59/59 - 10s - loss: 0.0091 - 10s/epoch - 168ms/step\n",
      "Epoch 9/10\n",
      "59/59 - 10s - loss: 0.0087 - 10s/epoch - 175ms/step\n",
      "Epoch 10/10\n",
      "59/59 - 11s - loss: 0.0084 - 11s/epoch - 184ms/step\n"
     ]
    },
    {
     "data": {
      "text/plain": [
       "<keras.callbacks.History at 0x11a3233e490>"
      ]
     },
     "execution_count": 95,
     "metadata": {},
     "output_type": "execute_result"
    }
   ],
   "source": [
    "epoch = 10\n",
    "batch_size = 1024\n",
    "\n",
    "ae.fit(datax_reshape, datax_reshape,\n",
    "      batch_size = batch_size,\n",
    "      epochs=epoch,\n",
    "      verbose =2)"
   ]
  },
  {
   "cell_type": "code",
   "execution_count": 96,
   "id": "54de9abd",
   "metadata": {},
   "outputs": [
    {
     "data": {
      "text/plain": [
       "<matplotlib.image.AxesImage at 0x11a0262c190>"
      ]
     },
     "execution_count": 96,
     "metadata": {},
     "output_type": "execute_result"
    },
    {
     "data": {
      "image/png": "[encoded data removed]",
      "text/plain": [
       "<Figure size 432x288 with 1 Axes>"
      ]
     },
     "metadata": {
      "needs_background": "light"
     },
     "output_type": "display_data"
    }
   ],
   "source": [
    "# 원본 데이터 확인\n",
    "plt.imshow(datax_reshape[0].reshape(28,28))"
   ]
  },
  {
   "cell_type": "code",
   "execution_count": 97,
   "id": "6c2b355d",
   "metadata": {},
   "outputs": [
    {
     "data": {
      "text/plain": [
       "<matplotlib.image.AxesImage at 0x11a0217e6d0>"
      ]
     },
     "execution_count": 97,
     "metadata": {},
     "output_type": "execute_result"
    },
    {
     "data": {
      "image/png": "[encoded data removed]",
      "text/plain": [
       "<Figure size 432x288 with 1 Axes>"
      ]
     },
     "metadata": {
      "needs_background": "light"
     },
     "output_type": "display_data"
    }
   ],
   "source": [
    "# 데이터를 모델에 넣고 복원시킨다\n",
    "decoded_img = ae.predict(datax_reshape[0].reshape(1,28*28))\n",
    "decoded_img = decoded_img.reshape(28,28)\n",
    "\n",
    "# 복원된 데이터 확인\n",
    "plt.imshow(decoded_img)"
   ]
  },
  {
   "cell_type": "code",
   "execution_count": 98,
   "id": "f4741ddd",
   "metadata": {},
   "outputs": [
    {
     "data": {
      "text/plain": [
       "0.22959145615603999"
      ]
     },
     "execution_count": 98,
     "metadata": {},
     "output_type": "execute_result"
    }
   ],
   "source": [
    "np.mean(np.abs(datax_reshape[0] - decoded_img.reshape(784,1)))\n"
   ]
  },
  {
   "cell_type": "code",
   "execution_count": 99,
   "id": "0f270f51",
   "metadata": {},
   "outputs": [
    {
     "data": {
      "text/plain": [
       "<matplotlib.image.AxesImage at 0x11a19da7df0>"
      ]
     },
     "execution_count": 99,
     "metadata": {},
     "output_type": "execute_result"
    },
    {
     "data": {
      "image/png": "[encoded data removed]",
      "text/plain": [
       "<Figure size 432x288 with 1 Axes>"
      ]
     },
     "metadata": {
      "needs_background": "light"
     },
     "output_type": "display_data"
    }
   ],
   "source": [
    "# np.random을 통해 random 값을 넣어서 이상치 탐지 확인\n",
    "decoded_img = ae.predict(np.random.rand(784,1).reshape(1,28*28))\n",
    "decoded_img = decoded_img.reshape(28,28)\n",
    "plt.imshow(decoded_img)"
   ]
  },
  {
   "cell_type": "code",
   "execution_count": 105,
   "id": "cdea60b2",
   "metadata": {},
   "outputs": [
    {
     "data": {
      "text/plain": [
       "<matplotlib.image.AxesImage at 0x11a03723e50>"
      ]
     },
     "execution_count": 105,
     "metadata": {},
     "output_type": "execute_result"
    },
    {
     "data": {
      "image/png": "[encoded data removed]",
      "text/plain": [
       "<Figure size 432x288 with 1 Axes>"
      ]
     },
     "metadata": {
      "needs_background": "light"
     },
     "output_type": "display_data"
    }
   ],
   "source": [
    "itermediate_layer_model = models.Model(inputs = ae.input, outputs = ae.get_layer('latent_layer').output)\n",
    "itermediate_output = itermediate_layer_model.predict(datax_reshape[0].reshape(1,28*28))\n",
    "latent_vector = np.array(itermediate_output)\n",
    "plt.imshow(latent_vector.reshape(15,15))"
   ]
  },
  {
   "cell_type": "code",
   "execution_count": null,
   "id": "b9e4c925",
   "metadata": {},
   "outputs": [],
   "source": [
    "datax_reshape = datax_norm.reshape((-1,28,28,1))\n",
    "print('최대: {}, 최소: {}'.format(np.max(datax_norm), np.min(datax_norm)))"
   ]
  },
  {
   "cell_type": "code",
   "execution_count": 12,
   "id": "a8605cb2",
   "metadata": {},
   "outputs": [
    {
     "name": "stdout",
     "output_type": "stream",
     "text": [
      "Model: \"model_1\"\n",
      "_________________________________________________________________\n",
      " Layer (type)                Output Shape              Param #   \n",
      "=================================================================\n",
      " input_2 (InputLayer)        [(None, 28, 28, 1)]       0         \n",
      "                                                                 \n",
      " conv2d (Conv2D)             (None, 28, 28, 1)         50        \n",
      "                                                                 \n",
      " imlatent_layer (MaxPooling2  (None, 14, 14, 1)        0         \n",
      " D)                                                              \n",
      "                                                                 \n",
      " flatten (Flatten)           (None, 196)               0         \n",
      "                                                                 \n",
      " latent_layer (Dense)        (None, 100)               19700     \n",
      "                                                                 \n",
      " dense_5 (Dense)             (None, 196)               19796     \n",
      "                                                                 \n",
      " tf.reshape (TFOpLambda)     (None, 14, 14, 1)         0         \n",
      "                                                                 \n",
      " up_sampling2d (UpSampling2D  (None, 28, 28, 1)        0         \n",
      " )                                                               \n",
      "                                                                 \n",
      " conv2d_transpose (Conv2DTra  (None, 28, 28, 1)        50        \n",
      " nspose)                                                         \n",
      "                                                                 \n",
      "=================================================================\n",
      "Total params: 39,596\n",
      "Trainable params: 39,596\n",
      "Non-trainable params: 0\n",
      "_________________________________________________________________\n"
     ]
    }
   ],
   "source": [
    "## Input\n",
    "input_shape = (28,28,1)\n",
    "input_tensor = layers.Input(input_shape)\n",
    "\n",
    "## Encoder\n",
    "conv1 = layers.Conv2D(1,(7,7), padding='same', activation='relu')(input_tensor)\n",
    "pooling1 = layers.MaxPool2D(name='imlatent_layer')(conv1)\n",
    "\n",
    "flatten1 = layers.Flatten()(pooling1)\n",
    "dense1 = layers.Dense(100,activation='relu', name='latent_layer')(flatten1)\n",
    "\n",
    "latent_tensor = dense1\n",
    "\n",
    "## Decoding\n",
    "ae.compile(optimizer = 'Adam', loss = 'mse')\n",
    "\n",
    "dense2 = layers.Dense(14*14, activation='relu')(latent_tensor)\n",
    "reshaped = tf.reshape(dense2, [-1,14,14,1])\n",
    "\n",
    "upsample2 = layers.UpSampling2D()(reshaped)\n",
    "deconv2 = layers.Conv2DTranspose(1,(7,7), padding = 'same', activation='sigmoid')(upsample2)\n",
    "\n",
    "# Outputs\n",
    "output_tensor = deconv2\n",
    "\n",
    "ae = models.Model(input_tensor, output_tensor)\n",
    "ae.compile(optimizer = 'Adam', loss = 'mse')\n",
    "ae.summary()"
   ]
  },
  {
   "cell_type": "code",
   "execution_count": 13,
   "id": "41dcf7c3",
   "metadata": {},
   "outputs": [
    {
     "name": "stdout",
     "output_type": "stream",
     "text": [
      "Epoch 1/10\n",
      "59/59 - 42s - loss: 0.1617 - 42s/epoch - 704ms/step\n",
      "Epoch 2/10\n",
      "59/59 - 44s - loss: 0.0649 - 44s/epoch - 743ms/step\n",
      "Epoch 3/10\n",
      "59/59 - 41s - loss: 0.0532 - 41s/epoch - 695ms/step\n",
      "Epoch 4/10\n",
      "59/59 - 39s - loss: 0.0465 - 39s/epoch - 660ms/step\n",
      "Epoch 5/10\n",
      "59/59 - 36s - loss: 0.0417 - 36s/epoch - 612ms/step\n",
      "Epoch 6/10\n",
      "59/59 - 33s - loss: 0.0380 - 33s/epoch - 563ms/step\n",
      "Epoch 7/10\n",
      "59/59 - 32s - loss: 0.0348 - 32s/epoch - 543ms/step\n",
      "Epoch 8/10\n",
      "59/59 - 33s - loss: 0.0324 - 33s/epoch - 565ms/step\n",
      "Epoch 9/10\n",
      "59/59 - 31s - loss: 0.0302 - 31s/epoch - 524ms/step\n",
      "Epoch 10/10\n",
      "59/59 - 29s - loss: 0.0284 - 29s/epoch - 496ms/step\n"
     ]
    },
    {
     "data": {
      "text/plain": [
       "<keras.callbacks.History at 0x11a00a490a0>"
      ]
     },
     "execution_count": 13,
     "metadata": {},
     "output_type": "execute_result"
    }
   ],
   "source": [
    "epoch=10\n",
    "batch_size=1024\n",
    "\n",
    "ae.fit(datax_reshape, datax_reshape,\n",
    "      batch_size=batch_size,\n",
    "      epochs=epoch,\n",
    "      verbose=2)"
   ]
  },
  {
   "cell_type": "code",
   "execution_count": 14,
   "id": "b6bc6795",
   "metadata": {},
   "outputs": [
    {
     "data": {
      "text/plain": [
       "<matplotlib.image.AxesImage at 0x11a00b55460>"
      ]
     },
     "execution_count": 14,
     "metadata": {},
     "output_type": "execute_result"
    },
    {
     "data": {
      "image/png": "[encoded data removed]",
      "text/plain": [
       "<Figure size 432x288 with 1 Axes>"
      ]
     },
     "metadata": {
      "needs_background": "light"
     },
     "output_type": "display_data"
    }
   ],
   "source": [
    "# 원본 데이터 확인\n",
    "plt.imshow(datax_reshape[10].reshape(28,28))"
   ]
  },
  {
   "cell_type": "code",
   "execution_count": 15,
   "id": "a4ff8487",
   "metadata": {},
   "outputs": [
    {
     "data": {
      "text/plain": [
       "<matplotlib.image.AxesImage at 0x11a00bec0a0>"
      ]
     },
     "execution_count": 15,
     "metadata": {},
     "output_type": "execute_result"
    },
    {
     "data": {
      "image/png": "[encoded data removed]",
      "text/plain": [
       "<Figure size 432x288 with 1 Axes>"
      ]
     },
     "metadata": {
      "needs_background": "light"
     },
     "output_type": "display_data"
    }
   ],
   "source": [
    "# 데이터를 모델에 넣고 복원시킴\n",
    "decoded_img = ae.predict(datax_reshape[10].reshape(1,28,28,1))\n",
    "decoded_img = decoded_img.reshape(28,28)\n",
    "\n",
    "# 복원된 데이터 확인\n",
    "plt.imshow(decoded_img)"
   ]
  },
  {
   "cell_type": "code",
   "execution_count": 30,
   "id": "22bcddd1",
   "metadata": {},
   "outputs": [
    {
     "data": {
      "text/plain": [
       "<matplotlib.image.AxesImage at 0x11a00f3c0a0>"
      ]
     },
     "execution_count": 30,
     "metadata": {},
     "output_type": "execute_result"
    },
    {
     "data": {
      "image/png": "[encoded data removed]",
      "text/plain": [
       "<Figure size 432x288 with 1 Axes>"
      ]
     },
     "metadata": {
      "needs_background": "light"
     },
     "output_type": "display_data"
    }
   ],
   "source": [
    "# np.random을 통해 random 값을 넣어서 이상치 탐지 확인\n",
    "random_vector = np.random.rand(784,1)\n",
    "decoded_img = ae.predict(random_vector.reshape(1,28,28,1))\n",
    "decoded_img = decoded_img.reshape(28,28)\n",
    "plt.imshow(decoded_img)"
   ]
  },
  {
   "cell_type": "code",
   "execution_count": null,
   "id": "8086cfb2",
   "metadata": {},
   "outputs": [],
   "source": []
  },
  {
   "cell_type": "code",
   "execution_count": null,
   "id": "a3dd8e46",
   "metadata": {},
   "outputs": [],
   "source": []
  }
 ],
 "metadata": {
  "kernelspec": {
   "display_name": "Python 3",
   "language": "python",
   "name": "python3"
  },
  "language_info": {
   "codemirror_mode": {
    "name": "ipython",
    "version": 3
   },
   "file_extension": ".py",
   "mimetype": "text/x-python",
   "name": "python",
   "nbconvert_exporter": "python",
   "pygments_lexer": "ipython3",
   "version": "3.8.8"
  }
 },
 "nbformat": 4,
 "nbformat_minor": 5
}
