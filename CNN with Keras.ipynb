{
 "cells": [
  {
   "cell_type": "code",
   "execution_count": 1,
   "id": "ceb647f6",
   "metadata": {},
   "outputs": [],
   "source": [
    "import numpy as np\n",
    "import pandas as pd\n",
    "import matplotlib.pyplot as plt\n",
    "%matplotlib inline\n",
    "\n",
    "from os.path import join\n",
    "\n",
    "import tensorflow as tf\n",
    "from tensorflow.keras import layers, models, optimizers\n",
    "from tensorflow.keras.utils import to_categorical"
   ]
  },
  {
   "cell_type": "code",
   "execution_count": 2,
   "id": "05c4bf38",
   "metadata": {},
   "outputs": [],
   "source": [
    "datax = np.load(join('data', 'MNIST.npy'))\n",
    "datay = np.load(join('data', 'Label.npy'))\n"
   ]
  },
  {
   "cell_type": "code",
   "execution_count": 4,
   "id": "e11abe9a",
   "metadata": {},
   "outputs": [
    {
     "name": "stdout",
     "output_type": "stream",
     "text": [
      "최대 : 1.0, 최소 : 0.0\n"
     ]
    }
   ],
   "source": [
    "datax_norm = datax/255\n",
    "print('최대 : {}, 최소 : {}'.format(np.max(datax_norm), np.min(datax_norm)))"
   ]
  },
  {
   "cell_type": "code",
   "execution_count": 5,
   "id": "69fdb708",
   "metadata": {},
   "outputs": [
    {
     "name": "stdout",
     "output_type": "stream",
     "text": [
      "[5 0 4 1 9 2 1 3 1 4]\n",
      "[[0. 0. 0. 0. 0. 1. 0. 0. 0. 0.]\n",
      " [1. 0. 0. 0. 0. 0. 0. 0. 0. 0.]\n",
      " [0. 0. 0. 0. 1. 0. 0. 0. 0. 0.]\n",
      " [0. 1. 0. 0. 0. 0. 0. 0. 0. 0.]\n",
      " [0. 0. 0. 0. 0. 0. 0. 0. 0. 1.]\n",
      " [0. 0. 1. 0. 0. 0. 0. 0. 0. 0.]\n",
      " [0. 1. 0. 0. 0. 0. 0. 0. 0. 0.]\n",
      " [0. 0. 0. 1. 0. 0. 0. 0. 0. 0.]\n",
      " [0. 1. 0. 0. 0. 0. 0. 0. 0. 0.]\n",
      " [0. 0. 0. 0. 1. 0. 0. 0. 0. 0.]]\n"
     ]
    }
   ],
   "source": [
    "datay_onehot = to_categorical(datay)\n",
    "print(datay[0:10])\n",
    "print(datay_onehot[0:10,:])"
   ]
  },
  {
   "cell_type": "code",
   "execution_count": 7,
   "id": "819f87d9",
   "metadata": {},
   "outputs": [],
   "source": [
    "# Train, Test Data Split\n",
    "from sklearn.model_selection import train_test_split\n",
    "trnx, tstx, trny, tsty = train_test_split(datax_norm, datay_onehot, test_size = 0.3, random_state =111)"
   ]
  },
  {
   "cell_type": "code",
   "execution_count": 8,
   "id": "402ab61b",
   "metadata": {},
   "outputs": [
    {
     "name": "stdout",
     "output_type": "stream",
     "text": [
      "(42000, 28, 28)\n",
      "(42000, 10)\n"
     ]
    }
   ],
   "source": [
    "print(trnx.shape)\n",
    "print(trny.shape)"
   ]
  },
  {
   "cell_type": "code",
   "execution_count": 11,
   "id": "2fed4a99",
   "metadata": {},
   "outputs": [],
   "source": [
    "input_shape = (28,28,1)\n",
    "cnn_model = models.Sequential()\n",
    "\n",
    "cnn_model.add(layers.Conv2D(16,(2,2), padding='same', input_shape=input_shape))\n",
    "cnn_model.add(layers.BatchNormalization())\n",
    "cnn_model.add(layers.Activation(\"relu\"))\n",
    "cnn_model.add(layers.MaxPooling2D((2,2)))\n",
    "\n",
    "cnn_model.add(layers.Conv2D(16,(2,2), padding='same'))\n",
    "cnn_model.add(layers.BatchNormalization())\n",
    "cnn_model.add(layers.Activation(\"relu\"))\n",
    "cnn_model.add(layers.Dropout(0.2))\n",
    "cnn_model.add(layers.MaxPooling2D((2,2)))\n",
    "\n",
    "cnn_model.add(layers.Flatten())\n",
    "\n",
    "cnn_model.add(layers.Dense(units = 128, activation = \"relu\"))\n",
    "cnn_model.add(layers.Dense(units = 10, activation = \"softmax\"))\n",
    "\n",
    "cnn_model.compile(optimizer = 'Adam', loss = 'categorical_crossentropy', metrics=['accuracy'])"
   ]
  },
  {
   "cell_type": "code",
   "execution_count": 12,
   "id": "fb443a03",
   "metadata": {},
   "outputs": [
    {
     "name": "stdout",
     "output_type": "stream",
     "text": [
      "Model: \"sequential_2\"\n",
      "_________________________________________________________________\n",
      " Layer (type)                Output Shape              Param #   \n",
      "=================================================================\n",
      " conv2d_4 (Conv2D)           (None, 28, 28, 16)        80        \n",
      "                                                                 \n",
      " batch_normalization_4 (Batc  (None, 28, 28, 16)       64        \n",
      " hNormalization)                                                 \n",
      "                                                                 \n",
      " activation_4 (Activation)   (None, 28, 28, 16)        0         \n",
      "                                                                 \n",
      " max_pooling2d_4 (MaxPooling  (None, 14, 14, 16)       0         \n",
      " 2D)                                                             \n",
      "                                                                 \n",
      " conv2d_5 (Conv2D)           (None, 14, 14, 16)        1040      \n",
      "                                                                 \n",
      " batch_normalization_5 (Batc  (None, 14, 14, 16)       64        \n",
      " hNormalization)                                                 \n",
      "                                                                 \n",
      " activation_5 (Activation)   (None, 14, 14, 16)        0         \n",
      "                                                                 \n",
      " dropout_2 (Dropout)         (None, 14, 14, 16)        0         \n",
      "                                                                 \n",
      " max_pooling2d_5 (MaxPooling  (None, 7, 7, 16)         0         \n",
      " 2D)                                                             \n",
      "                                                                 \n",
      " flatten_2 (Flatten)         (None, 784)               0         \n",
      "                                                                 \n",
      " dense_4 (Dense)             (None, 128)               100480    \n",
      "                                                                 \n",
      " dense_5 (Dense)             (None, 10)                1290      \n",
      "                                                                 \n",
      "=================================================================\n",
      "Total params: 103,018\n",
      "Trainable params: 102,954\n",
      "Non-trainable params: 64\n",
      "_________________________________________________________________\n"
     ]
    }
   ],
   "source": [
    "cnn_model.summary()"
   ]
  },
  {
   "cell_type": "code",
   "execution_count": 14,
   "id": "a49bc188",
   "metadata": {},
   "outputs": [
    {
     "data": {
      "text/plain": [
       "(42000, 28, 28, 1)"
      ]
     },
     "execution_count": 14,
     "metadata": {},
     "output_type": "execute_result"
    }
   ],
   "source": [
    "# 입력값들을 CNN에 넣기 위해 4D tensor로 변환 (row, height, width, depth)\n",
    "trnx_reshape = trnx.reshape(-1,28,28,1)\n",
    "tstx_reshape = tstx.reshape(-1,28,28,1)\n",
    "trnx_reshape.shape"
   ]
  },
  {
   "cell_type": "code",
   "execution_count": 15,
   "id": "5b278620",
   "metadata": {},
   "outputs": [
    {
     "name": "stdout",
     "output_type": "stream",
     "text": [
      "Epoch 1/100\n",
      "840/840 [==============================] - 59s 67ms/step - loss: 0.2121 - accuracy: 0.9340 - val_loss: 0.0931 - val_accuracy: 0.9739\n",
      "Epoch 2/100\n",
      "840/840 [==============================] - 58s 69ms/step - loss: 0.0825 - accuracy: 0.9742 - val_loss: 0.0707 - val_accuracy: 0.9782\n",
      "Epoch 3/100\n",
      "840/840 [==============================] - 54s 64ms/step - loss: 0.0569 - accuracy: 0.9819 - val_loss: 0.0665 - val_accuracy: 0.9791\n",
      "Epoch 4/100\n",
      "840/840 [==============================] - 54s 64ms/step - loss: 0.0453 - accuracy: 0.9851 - val_loss: 0.0580 - val_accuracy: 0.9827\n",
      "Epoch 5/100\n",
      "840/840 [==============================] - 54s 64ms/step - loss: 0.0384 - accuracy: 0.9871 - val_loss: 0.0446 - val_accuracy: 0.9866\n",
      "Epoch 6/100\n",
      "840/840 [==============================] - 58s 69ms/step - loss: 0.0319 - accuracy: 0.9893 - val_loss: 0.0539 - val_accuracy: 0.9829\n",
      "Epoch 7/100\n",
      "840/840 [==============================] - 52s 61ms/step - loss: 0.0284 - accuracy: 0.9909 - val_loss: 0.0482 - val_accuracy: 0.9855\n",
      "Epoch 8/100\n",
      "840/840 [==============================] - 50s 60ms/step - loss: 0.0252 - accuracy: 0.9912 - val_loss: 0.0552 - val_accuracy: 0.9840\n",
      "Epoch 9/100\n",
      "840/840 [==============================] - 50s 59ms/step - loss: 0.0216 - accuracy: 0.9925 - val_loss: 0.0419 - val_accuracy: 0.9871\n",
      "Epoch 10/100\n",
      "840/840 [==============================] - 54s 65ms/step - loss: 0.0163 - accuracy: 0.9944 - val_loss: 0.0448 - val_accuracy: 0.9873\n",
      "Epoch 11/100\n",
      "840/840 [==============================] - 50s 60ms/step - loss: 0.0168 - accuracy: 0.9939 - val_loss: 0.0444 - val_accuracy: 0.9884\n",
      "Epoch 12/100\n",
      "840/840 [==============================] - 50s 59ms/step - loss: 0.0173 - accuracy: 0.9943 - val_loss: 0.0417 - val_accuracy: 0.9882\n",
      "Epoch 13/100\n",
      "840/840 [==============================] - 51s 61ms/step - loss: 0.0153 - accuracy: 0.9945 - val_loss: 0.0495 - val_accuracy: 0.9873\n",
      "Epoch 14/100\n",
      "840/840 [==============================] - 54s 65ms/step - loss: 0.0124 - accuracy: 0.9958 - val_loss: 0.0424 - val_accuracy: 0.9879\n",
      "Epoch 15/100\n",
      "840/840 [==============================] - 50s 60ms/step - loss: 0.0135 - accuracy: 0.9955 - val_loss: 0.0424 - val_accuracy: 0.9892\n",
      "Epoch 16/100\n",
      "840/840 [==============================] - 50s 59ms/step - loss: 0.0115 - accuracy: 0.9957 - val_loss: 0.0464 - val_accuracy: 0.9877\n",
      "Epoch 17/100\n",
      "840/840 [==============================] - 51s 60ms/step - loss: 0.0090 - accuracy: 0.9968 - val_loss: 0.0464 - val_accuracy: 0.9886\n",
      "Epoch 18/100\n",
      "840/840 [==============================] - 53s 63ms/step - loss: 0.0108 - accuracy: 0.9962 - val_loss: 0.0479 - val_accuracy: 0.9885\n",
      "Epoch 19/100\n",
      "840/840 [==============================] - 50s 60ms/step - loss: 0.0105 - accuracy: 0.9961 - val_loss: 0.0426 - val_accuracy: 0.9894\n",
      "Epoch 20/100\n",
      "840/840 [==============================] - 50s 59ms/step - loss: 0.0106 - accuracy: 0.9962 - val_loss: 0.0520 - val_accuracy: 0.9864\n",
      "Epoch 21/100\n",
      "840/840 [==============================] - 52s 62ms/step - loss: 0.0096 - accuracy: 0.9968 - val_loss: 0.0405 - val_accuracy: 0.9904\n",
      "Epoch 22/100\n",
      "840/840 [==============================] - 53s 63ms/step - loss: 0.0074 - accuracy: 0.9974 - val_loss: 0.0449 - val_accuracy: 0.9890\n",
      "Epoch 23/100\n",
      "840/840 [==============================] - 50s 59ms/step - loss: 0.0078 - accuracy: 0.9970 - val_loss: 0.0506 - val_accuracy: 0.9889\n",
      "Epoch 24/100\n",
      "840/840 [==============================] - 50s 59ms/step - loss: 0.0108 - accuracy: 0.9963 - val_loss: 0.0454 - val_accuracy: 0.9881\n",
      "Epoch 25/100\n",
      "840/840 [==============================] - 52s 62ms/step - loss: 0.0075 - accuracy: 0.9975 - val_loss: 0.0412 - val_accuracy: 0.9904\n",
      "Epoch 26/100\n",
      "840/840 [==============================] - 53s 63ms/step - loss: 0.0069 - accuracy: 0.9976 - val_loss: 0.0431 - val_accuracy: 0.9908\n",
      "Epoch 27/100\n",
      "840/840 [==============================] - 50s 59ms/step - loss: 0.0083 - accuracy: 0.9974 - val_loss: 0.0448 - val_accuracy: 0.9897\n",
      "Epoch 28/100\n",
      "840/840 [==============================] - 50s 59ms/step - loss: 0.0058 - accuracy: 0.9979 - val_loss: 0.0510 - val_accuracy: 0.9892\n",
      "Epoch 29/100\n",
      "840/840 [==============================] - 53s 63ms/step - loss: 0.0081 - accuracy: 0.9971 - val_loss: 0.0509 - val_accuracy: 0.9887\n",
      "Epoch 30/100\n",
      "840/840 [==============================] - 52s 61ms/step - loss: 0.0055 - accuracy: 0.9980 - val_loss: 0.0548 - val_accuracy: 0.9889\n",
      "Epoch 31/100\n",
      "840/840 [==============================] - 50s 59ms/step - loss: 0.0067 - accuracy: 0.9977 - val_loss: 0.0472 - val_accuracy: 0.9898\n",
      "Epoch 32/100\n",
      "840/840 [==============================] - 50s 59ms/step - loss: 0.0063 - accuracy: 0.9981 - val_loss: 0.0460 - val_accuracy: 0.9902\n",
      "Epoch 33/100\n",
      "840/840 [==============================] - 53s 64ms/step - loss: 0.0070 - accuracy: 0.9976 - val_loss: 0.0501 - val_accuracy: 0.9891\n",
      "Epoch 34/100\n",
      "840/840 [==============================] - 51s 61ms/step - loss: 0.0055 - accuracy: 0.9981 - val_loss: 0.0604 - val_accuracy: 0.9880\n",
      "Epoch 35/100\n",
      "840/840 [==============================] - 49s 59ms/step - loss: 0.0055 - accuracy: 0.9980 - val_loss: 0.0516 - val_accuracy: 0.9897\n",
      "Epoch 36/100\n",
      "840/840 [==============================] - 50s 59ms/step - loss: 0.0055 - accuracy: 0.9982 - val_loss: 0.0562 - val_accuracy: 0.9884\n",
      "Epoch 37/100\n",
      "840/840 [==============================] - 54s 64ms/step - loss: 0.0067 - accuracy: 0.9979 - val_loss: 0.0515 - val_accuracy: 0.9897\n",
      "Epoch 38/100\n",
      "840/840 [==============================] - 49s 58ms/step - loss: 0.0045 - accuracy: 0.9985 - val_loss: 0.0490 - val_accuracy: 0.9898\n",
      "Epoch 39/100\n",
      "840/840 [==============================] - 49s 59ms/step - loss: 0.0030 - accuracy: 0.9990 - val_loss: 0.0452 - val_accuracy: 0.9908\n",
      "Epoch 40/100\n",
      "840/840 [==============================] - 50s 59ms/step - loss: 0.0057 - accuracy: 0.9979 - val_loss: 0.0577 - val_accuracy: 0.9887\n",
      "Epoch 41/100\n",
      "840/840 [==============================] - 54s 64ms/step - loss: 0.0050 - accuracy: 0.9983 - val_loss: 0.0582 - val_accuracy: 0.9893\n",
      "Epoch 42/100\n",
      "840/840 [==============================] - 50s 59ms/step - loss: 0.0049 - accuracy: 0.9983 - val_loss: 0.0544 - val_accuracy: 0.9896\n",
      "Epoch 43/100\n",
      "840/840 [==============================] - 49s 59ms/step - loss: 0.0048 - accuracy: 0.9982 - val_loss: 0.0578 - val_accuracy: 0.9887\n",
      "Epoch 44/100\n",
      "840/840 [==============================] - 50s 60ms/step - loss: 0.0034 - accuracy: 0.9991 - val_loss: 0.0556 - val_accuracy: 0.9901\n",
      "Epoch 45/100\n",
      "840/840 [==============================] - 54s 64ms/step - loss: 0.0047 - accuracy: 0.9985 - val_loss: 0.0622 - val_accuracy: 0.9877\n",
      "Epoch 46/100\n",
      "840/840 [==============================] - 50s 59ms/step - loss: 0.0052 - accuracy: 0.9985 - val_loss: 0.0501 - val_accuracy: 0.9903\n",
      "Epoch 47/100\n",
      "840/840 [==============================] - 49s 58ms/step - loss: 0.0036 - accuracy: 0.9990 - val_loss: 0.0551 - val_accuracy: 0.9895\n",
      "Epoch 48/100\n",
      "840/840 [==============================] - 50s 59ms/step - loss: 0.0045 - accuracy: 0.9984 - val_loss: 0.0582 - val_accuracy: 0.9891\n",
      "Epoch 49/100\n",
      "840/840 [==============================] - 54s 64ms/step - loss: 0.0058 - accuracy: 0.9980 - val_loss: 0.0601 - val_accuracy: 0.9894\n",
      "Epoch 50/100\n",
      "840/840 [==============================] - 50s 59ms/step - loss: 0.0050 - accuracy: 0.9982 - val_loss: 0.0490 - val_accuracy: 0.9910\n",
      "Epoch 51/100\n",
      "840/840 [==============================] - 49s 59ms/step - loss: 0.0022 - accuracy: 0.9994 - val_loss: 0.0586 - val_accuracy: 0.9893\n",
      "Epoch 52/100\n",
      "840/840 [==============================] - 50s 59ms/step - loss: 0.0035 - accuracy: 0.9990 - val_loss: 0.0580 - val_accuracy: 0.9894\n",
      "Epoch 53/100\n",
      "840/840 [==============================] - 54s 64ms/step - loss: 0.0036 - accuracy: 0.9988 - val_loss: 0.0549 - val_accuracy: 0.9903\n",
      "Epoch 54/100\n",
      "840/840 [==============================] - 50s 59ms/step - loss: 0.0041 - accuracy: 0.9988 - val_loss: 0.0637 - val_accuracy: 0.9892\n",
      "Epoch 55/100\n",
      "840/840 [==============================] - 50s 60ms/step - loss: 0.0035 - accuracy: 0.9990 - val_loss: 0.0645 - val_accuracy: 0.9879\n",
      "Epoch 56/100\n",
      "840/840 [==============================] - 50s 59ms/step - loss: 0.0050 - accuracy: 0.9984 - val_loss: 0.0693 - val_accuracy: 0.9889\n",
      "Epoch 57/100\n"
     ]
    },
    {
     "name": "stdout",
     "output_type": "stream",
     "text": [
      "840/840 [==============================] - 54s 64ms/step - loss: 0.0028 - accuracy: 0.9988 - val_loss: 0.0613 - val_accuracy: 0.9893\n",
      "Epoch 58/100\n",
      "840/840 [==============================] - 50s 59ms/step - loss: 0.0031 - accuracy: 0.9990 - val_loss: 0.0652 - val_accuracy: 0.9898\n",
      "Epoch 59/100\n",
      "840/840 [==============================] - 50s 60ms/step - loss: 0.0050 - accuracy: 0.9984 - val_loss: 0.0578 - val_accuracy: 0.9889\n",
      "Epoch 60/100\n",
      "840/840 [==============================] - 50s 59ms/step - loss: 0.0035 - accuracy: 0.9986 - val_loss: 0.0581 - val_accuracy: 0.9892\n",
      "Epoch 61/100\n",
      "840/840 [==============================] - 54s 64ms/step - loss: 0.0046 - accuracy: 0.9985 - val_loss: 0.0547 - val_accuracy: 0.9907\n",
      "Epoch 62/100\n",
      "840/840 [==============================] - 50s 59ms/step - loss: 0.0025 - accuracy: 0.9990 - val_loss: 0.0551 - val_accuracy: 0.9898\n",
      "Epoch 63/100\n",
      "840/840 [==============================] - 50s 60ms/step - loss: 0.0033 - accuracy: 0.9990 - val_loss: 0.0658 - val_accuracy: 0.9883\n",
      "Epoch 64/100\n",
      "840/840 [==============================] - 50s 60ms/step - loss: 0.0042 - accuracy: 0.9987 - val_loss: 0.0553 - val_accuracy: 0.9904\n",
      "Epoch 65/100\n",
      "840/840 [==============================] - 53s 64ms/step - loss: 0.0025 - accuracy: 0.9992 - val_loss: 0.0698 - val_accuracy: 0.9886\n",
      "Epoch 66/100\n",
      "840/840 [==============================] - 50s 59ms/step - loss: 0.0030 - accuracy: 0.9990 - val_loss: 0.0578 - val_accuracy: 0.9901\n",
      "Epoch 67/100\n",
      "840/840 [==============================] - 50s 59ms/step - loss: 0.0043 - accuracy: 0.9986 - val_loss: 0.0620 - val_accuracy: 0.9887\n",
      "Epoch 68/100\n",
      "840/840 [==============================] - 51s 61ms/step - loss: 0.0018 - accuracy: 0.9993 - val_loss: 0.0586 - val_accuracy: 0.9913\n",
      "Epoch 69/100\n",
      "840/840 [==============================] - 53s 63ms/step - loss: 0.0042 - accuracy: 0.9987 - val_loss: 0.0729 - val_accuracy: 0.9891\n",
      "Epoch 70/100\n",
      "840/840 [==============================] - 50s 59ms/step - loss: 0.0036 - accuracy: 0.9987 - val_loss: 0.0545 - val_accuracy: 0.9908\n",
      "Epoch 71/100\n",
      "840/840 [==============================] - 49s 59ms/step - loss: 0.0025 - accuracy: 0.9991 - val_loss: 0.0563 - val_accuracy: 0.9909\n",
      "Epoch 72/100\n",
      "840/840 [==============================] - 51s 61ms/step - loss: 0.0034 - accuracy: 0.9989 - val_loss: 0.0563 - val_accuracy: 0.9904\n",
      "Epoch 73/100\n",
      "840/840 [==============================] - 52s 62ms/step - loss: 0.0029 - accuracy: 0.9989 - val_loss: 0.0611 - val_accuracy: 0.9896\n",
      "Epoch 74/100\n",
      "840/840 [==============================] - 50s 59ms/step - loss: 0.0024 - accuracy: 0.9991 - val_loss: 0.0707 - val_accuracy: 0.9883\n",
      "Epoch 75/100\n",
      "840/840 [==============================] - 50s 59ms/step - loss: 0.0053 - accuracy: 0.9985 - val_loss: 0.0619 - val_accuracy: 0.9903\n",
      "Epoch 76/100\n",
      "840/840 [==============================] - 52s 63ms/step - loss: 0.0027 - accuracy: 0.9991 - val_loss: 0.0652 - val_accuracy: 0.9899\n",
      "Epoch 77/100\n",
      "840/840 [==============================] - 52s 62ms/step - loss: 0.0032 - accuracy: 0.9990 - val_loss: 0.0694 - val_accuracy: 0.9896\n",
      "Epoch 78/100\n",
      "840/840 [==============================] - 27s 32ms/step - loss: 0.0037 - accuracy: 0.9991 - val_loss: 0.0562 - val_accuracy: 0.9919\n",
      "Epoch 79/100\n",
      "840/840 [==============================] - 14s 17ms/step - loss: 0.0021 - accuracy: 0.9993 - val_loss: 0.0590 - val_accuracy: 0.9914\n",
      "Epoch 80/100\n",
      "840/840 [==============================] - 14s 17ms/step - loss: 0.0020 - accuracy: 0.9994 - val_loss: 0.0663 - val_accuracy: 0.9899\n",
      "Epoch 81/100\n",
      "840/840 [==============================] - 14s 17ms/step - loss: 0.0024 - accuracy: 0.9995 - val_loss: 0.0756 - val_accuracy: 0.9891\n",
      "Epoch 82/100\n",
      "840/840 [==============================] - 15s 17ms/step - loss: 0.0036 - accuracy: 0.9988 - val_loss: 0.0723 - val_accuracy: 0.9892\n",
      "Epoch 83/100\n",
      "840/840 [==============================] - 14s 17ms/step - loss: 0.0029 - accuracy: 0.9992 - val_loss: 0.0636 - val_accuracy: 0.9912\n",
      "Epoch 84/100\n",
      "840/840 [==============================] - 14s 17ms/step - loss: 0.0023 - accuracy: 0.9993 - val_loss: 0.0671 - val_accuracy: 0.9899\n",
      "Epoch 85/100\n",
      "840/840 [==============================] - 14s 17ms/step - loss: 0.0025 - accuracy: 0.9991 - val_loss: 0.0629 - val_accuracy: 0.9905\n",
      "Epoch 86/100\n",
      "840/840 [==============================] - 15s 17ms/step - loss: 0.0037 - accuracy: 0.9990 - val_loss: 0.0701 - val_accuracy: 0.9899\n",
      "Epoch 87/100\n",
      "840/840 [==============================] - 14s 17ms/step - loss: 0.0013 - accuracy: 0.9996 - val_loss: 0.0611 - val_accuracy: 0.9904\n",
      "Epoch 88/100\n",
      "840/840 [==============================] - 15s 18ms/step - loss: 0.0022 - accuracy: 0.9993 - val_loss: 0.0740 - val_accuracy: 0.9891\n",
      "Epoch 89/100\n",
      "840/840 [==============================] - 14s 17ms/step - loss: 0.0041 - accuracy: 0.9988 - val_loss: 0.0730 - val_accuracy: 0.9891\n",
      "Epoch 90/100\n",
      "840/840 [==============================] - 15s 17ms/step - loss: 0.0032 - accuracy: 0.9989 - val_loss: 0.0610 - val_accuracy: 0.9903\n",
      "Epoch 91/100\n",
      "840/840 [==============================] - 15s 17ms/step - loss: 0.0020 - accuracy: 0.9992 - val_loss: 0.0630 - val_accuracy: 0.9907\n",
      "Epoch 92/100\n",
      "840/840 [==============================] - 14s 17ms/step - loss: 0.0024 - accuracy: 0.9993 - val_loss: 0.0625 - val_accuracy: 0.9907\n",
      "Epoch 93/100\n",
      "840/840 [==============================] - 15s 17ms/step - loss: 0.0034 - accuracy: 0.9990 - val_loss: 0.0829 - val_accuracy: 0.9877\n",
      "Epoch 94/100\n",
      "840/840 [==============================] - 15s 17ms/step - loss: 0.0022 - accuracy: 0.9991 - val_loss: 0.0639 - val_accuracy: 0.9906\n",
      "Epoch 95/100\n",
      "840/840 [==============================] - 14s 17ms/step - loss: 0.0034 - accuracy: 0.9990 - val_loss: 0.0660 - val_accuracy: 0.9910\n",
      "Epoch 96/100\n",
      "840/840 [==============================] - 14s 17ms/step - loss: 0.0021 - accuracy: 0.9993 - val_loss: 0.0683 - val_accuracy: 0.9898\n",
      "Epoch 97/100\n",
      "840/840 [==============================] - 15s 17ms/step - loss: 0.0032 - accuracy: 0.9991 - val_loss: 0.0711 - val_accuracy: 0.9893\n",
      "Epoch 98/100\n",
      "840/840 [==============================] - 15s 17ms/step - loss: 0.0027 - accuracy: 0.9991 - val_loss: 0.0671 - val_accuracy: 0.9900\n",
      "Epoch 99/100\n",
      "840/840 [==============================] - 14s 17ms/step - loss: 0.0028 - accuracy: 0.9991 - val_loss: 0.0632 - val_accuracy: 0.9901\n",
      "Epoch 100/100\n",
      "840/840 [==============================] - 15s 17ms/step - loss: 0.0018 - accuracy: 0.9994 - val_loss: 0.0635 - val_accuracy: 0.9903\n"
     ]
    }
   ],
   "source": [
    "histroy = cnn_model.fit(trnx_reshape, trny, validation_data = [tstx_reshape,tsty], batch_size = 50, epochs = 100)"
   ]
  },
  {
   "cell_type": "code",
   "execution_count": 18,
   "id": "7de77a1d",
   "metadata": {},
   "outputs": [
    {
     "data": {
      "image/png": "[encoded data removed]",
      "text/plain": [
       "<Figure size 432x288 with 1 Axes>"
      ]
     },
     "metadata": {
      "needs_background": "light"
     },
     "output_type": "display_data"
    },
    {
     "data": {
      "image/png": "[encoded data removed]",
      "text/plain": [
       "<Figure size 432x288 with 1 Axes>"
      ]
     },
     "metadata": {
      "needs_background": "light"
     },
     "output_type": "display_data"
    },
    {
     "name": "stdout",
     "output_type": "stream",
     "text": [
      "0.9903333187103271\n",
      "0.991944432258606\n"
     ]
    }
   ],
   "source": [
    "# 학습과정 시각화\n",
    "plt.plot(histroy.history['accuracy'])\n",
    "plt.plot(histroy.history['val_accuracy'])\n",
    "plt.title('model accuracy')\n",
    "plt.ylabel('accuracy')\n",
    "plt.xlabel('epoch')\n",
    "plt.legend(['train','test'], loc = 'upper left')\n",
    "plt.show()\n",
    "\n",
    "# Train data / Test Data Loss 시각화\n",
    "plt.plot(histroy.history['loss'])\n",
    "plt.plot(histroy.history['val_loss'])\n",
    "plt.title('model loss')\n",
    "plt.ylabel('loss')\n",
    "plt.xlabel('epoch')\n",
    "plt.legend(['train', 'test'], loc = 'upper left')\n",
    "plt.show() \n",
    "print(histroy.history['val_accuracy'][-1])\n",
    "print(np.max(histroy.history['val_accuracy']))\n"
   ]
  },
  {
   "cell_type": "markdown",
   "id": "1e647ea5",
   "metadata": {},
   "source": [
    "---"
   ]
  },
  {
   "cell_type": "code",
   "execution_count": null,
   "id": "b8b7bd4e",
   "metadata": {},
   "outputs": [],
   "source": []
  }
 ],
 "metadata": {
  "kernelspec": {
   "display_name": "Python 3 (ipykernel)",
   "language": "python",
   "name": "python3"
  },
  "language_info": {
   "codemirror_mode": {
    "name": "ipython",
    "version": 3
   },
   "file_extension": ".py",
   "mimetype": "text/x-python",
   "name": "python",
   "nbconvert_exporter": "python",
   "pygments_lexer": "ipython3",
   "version": "3.9.7"
  }
 },
 "nbformat": 4,
 "nbformat_minor": 5
}
