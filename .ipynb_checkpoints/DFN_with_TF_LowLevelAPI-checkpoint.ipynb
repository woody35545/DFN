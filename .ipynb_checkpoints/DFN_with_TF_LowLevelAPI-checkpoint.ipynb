{
 "cells": [
  {
   "cell_type": "code",
   "execution_count": 1,
   "id": "f2072a15",
   "metadata": {},
   "outputs": [],
   "source": [
    "import numpy as np\n",
    "import pandas as pd\n",
    "import matplotlib.pyplot as plt\n",
    "%matplotlib inline\n",
    "from os.path import join\n",
    "import tensorflow as tf\n",
    "from tensorflow.keras.utils import to_categorical"
   ]
  },
  {
   "cell_type": "code",
   "execution_count": 2,
   "id": "b3337a74",
   "metadata": {},
   "outputs": [
    {
     "name": "stdout",
     "output_type": "stream",
     "text": [
      "2.7.0\n"
     ]
    }
   ],
   "source": [
    "print(tf.__version__)"
   ]
  },
  {
   "cell_type": "code",
   "execution_count": 3,
   "id": "0553ee5b",
   "metadata": {},
   "outputs": [],
   "source": [
    "# Data load \n",
    "datax = np.load(join('data', 'MNIST.npy'))\n",
    "datay = np.load(join('data', 'Label.npy'))"
   ]
  },
  {
   "cell_type": "code",
   "execution_count": 4,
   "id": "4bdd196e",
   "metadata": {},
   "outputs": [
    {
     "name": "stdout",
     "output_type": "stream",
     "text": [
      "최대 : 1.0, 최소 : 0.0\n"
     ]
    }
   ],
   "source": [
    "datax_reshape = datax.reshape([datax.shape[0], datax.shape[1]*datax.shape[2]])\n",
    "datax_reshape_norm = datax_reshape/255\n",
    "print('최대 : {}, 최소 : {}'.format(np.max(datax_reshape_norm), np.min(datax_reshape_norm)))"
   ]
  },
  {
   "cell_type": "code",
   "execution_count": 7,
   "id": "8c2e261d",
   "metadata": {},
   "outputs": [],
   "source": [
    "datax_reshape_norm = datax_reshape_norm.astype('float32')"
   ]
  },
  {
   "cell_type": "code",
   "execution_count": 8,
   "id": "f2493935",
   "metadata": {},
   "outputs": [
    {
     "name": "stdout",
     "output_type": "stream",
     "text": [
      "[5 0 4 1 9 2 1 3 1 4]\n",
      "[[0. 0. 0. 0. 0. 1. 0. 0. 0. 0.]\n",
      " [1. 0. 0. 0. 0. 0. 0. 0. 0. 0.]\n",
      " [0. 0. 0. 0. 1. 0. 0. 0. 0. 0.]\n",
      " [0. 1. 0. 0. 0. 0. 0. 0. 0. 0.]\n",
      " [0. 0. 0. 0. 0. 0. 0. 0. 0. 1.]\n",
      " [0. 0. 1. 0. 0. 0. 0. 0. 0. 0.]\n",
      " [0. 1. 0. 0. 0. 0. 0. 0. 0. 0.]\n",
      " [0. 0. 0. 1. 0. 0. 0. 0. 0. 0.]\n",
      " [0. 1. 0. 0. 0. 0. 0. 0. 0. 0.]\n",
      " [0. 0. 0. 0. 1. 0. 0. 0. 0. 0.]]\n"
     ]
    }
   ],
   "source": [
    "datay_onehot = to_categorical(datay)\n",
    "print(datay[0:10])\n",
    "print(datay_onehot[0:10,:])"
   ]
  },
  {
   "cell_type": "code",
   "execution_count": 9,
   "id": "f16e7ccd",
   "metadata": {},
   "outputs": [],
   "source": [
    "# Train, Test Data Split\n",
    "from sklearn.model_selection import train_test_split\n",
    "trnx, tstx, trny, tsty = train_test_split(datax_reshape_norm, datay_onehot, test_size = 0.3, random_state =111)"
   ]
  },
  {
   "cell_type": "code",
   "execution_count": 14,
   "id": "a0c76006",
   "metadata": {},
   "outputs": [],
   "source": [
    "initializer = tf.initializers.glorot_uniform()\n",
    "def get_weight(shape,name):\n",
    "    return tf.Variable(initializer( shape ), name=name, trainable=True, dtype=tf.float32)\n",
    "\n",
    "shapes = [\n",
    "    [trnx.shape[1], 1000], \n",
    "    [1000,2000] ,\n",
    "    [2000,1000] ,\n",
    "    [1000, trny.shape[1]] ,\n",
    "]\n",
    "\n",
    "weights = [] \n",
    "\n",
    "for i in range(len(shapes)):\n",
    "    weights.append(get_weight(shapes[i], 'weight{}'.format(i)))\n",
    "\n"
   ]
  },
  {
   "cell_type": "code",
   "execution_count": 15,
   "id": "7d6ac120",
   "metadata": {},
   "outputs": [],
   "source": [
    "def model(X, dropout_rate):\n",
    "    h1 = tf.nn.relu(tf.matmul(X,weights[0]))\n",
    "    h1 = tf.nn.dropout(h1, dropout_rate)\n",
    "    \n",
    "    h2 = tf.nn.relu(tf.matmul(h1,weights[1]))\n",
    "    h2 = tf.nn.dropout(h2, dropout_rate)\n",
    "    \n",
    "    h3 = tf.matmul(h2, weights[2])\n",
    "    h3 = tf.nn.relu(h3)\n",
    "    h3 = tf.nn.dropout(h3, dropout_rate)\n",
    "    \n",
    "    out = tf.nn.softmax(tf.matmul(h3,weights[3]))\n",
    "    \n",
    "    return out"
   ]
  },
  {
   "cell_type": "code",
   "execution_count": 17,
   "id": "36ba252e",
   "metadata": {},
   "outputs": [],
   "source": [
    "dropout_rate =0.5\n",
    "learning_rate =0.01\n",
    "optimizer = tf.optimizers.Adagrad(learning_rate)\n",
    "def loss(target, pred):\n",
    "    return tf.losses.categorical_crossentropy(target,pred)\n",
    "\n",
    "def train_step(model, inputs, outputs):\n",
    "    with tf.GradientTape() as tape:\n",
    "        current_loss = loss(outputs,model(inputs,dropout_rate))\n",
    "        grads = tape.gradient(current_loss,weights)\n",
    "        optimizers.apply_gradients(zip(grads,weights))\n",
    "        print(tf.reduce_mean(current_loss))"
   ]
  },
  {
   "cell_type": "code",
   "execution_count": null,
   "id": "77aaca9d",
   "metadata": {},
   "outputs": [],
   "source": [
    "batch_size = 100\n",
    "max_epoch = 100\n",
    "for i in range(max_epoch):\n",
    "    idx = np.random.permutation(len(trnx))[0:batch_size]\n",
    "    train_step(model, trnx[idx, :], trny[idx,:])"
   ]
  },
  {
   "cell_type": "code",
   "execution_count": null,
   "id": "aff1514b",
   "metadata": {},
   "outputs": [],
   "source": [
    "from sklearn.metrics import accuracy_score\n",
    "\n",
    "pred = model(tstx,0)\n",
    "print(tf.argmax(tsty, axis =1))\n",
    "print(tf.argmax(pred, axis =1))\n",
    "\n",
    "accuracy_score(tf.argmax(tsty, axis = 1), tf.argmax(pred, axis = 1))"
   ]
  }
 ],
 "metadata": {
  "kernelspec": {
   "display_name": "Python 3 (ipykernel)",
   "language": "python",
   "name": "python3"
  },
  "language_info": {
   "codemirror_mode": {
    "name": "ipython",
    "version": 3
   },
   "file_extension": ".py",
   "mimetype": "text/x-python",
   "name": "python",
   "nbconvert_exporter": "python",
   "pygments_lexer": "ipython3",
   "version": "3.9.7"
  }
 },
 "nbformat": 4,
 "nbformat_minor": 5
}
