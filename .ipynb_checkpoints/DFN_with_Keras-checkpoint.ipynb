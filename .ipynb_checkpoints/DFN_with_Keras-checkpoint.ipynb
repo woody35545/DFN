{
 "cells": [
  {
   "cell_type": "code",
   "execution_count": 1,
   "id": "a5553d1d",
   "metadata": {},
   "outputs": [],
   "source": [
    "import numpy as np\n",
    "import pandas as pd\n",
    "import matplotlib.pyplot as plt\n",
    "%matplotlib inline\n",
    "\n",
    "from os.path import join\n",
    "\n",
    "import tensorflow as tf\n",
    "from tensorflow.keras import layers, models, optimizers\n",
    "from tensorflow.keras.utils import to_categorical"
   ]
  },
  {
   "cell_type": "markdown",
   "id": "b8c081ec",
   "metadata": {},
   "source": [
    "# DFN with Keras Sequential API / Functional API\n",
    "---"
   ]
  },
  {
   "cell_type": "code",
   "execution_count": 2,
   "id": "59b4485e",
   "metadata": {},
   "outputs": [],
   "source": [
    "datax = np.load(join('data', 'MNIST.npy'))\n",
    "datay = np.load(join('data', 'Label.npy'))\n"
   ]
  },
  {
   "cell_type": "code",
   "execution_count": 3,
   "id": "0bef001b",
   "metadata": {},
   "outputs": [
    {
     "name": "stdout",
     "output_type": "stream",
     "text": [
      "최대 : 1.0, 최소 : 0.0\n"
     ]
    }
   ],
   "source": [
    "datax_reshape = datax.reshape([datax.shape[0] , datax.shape[1]*datax.shape[2]])\n",
    "datax_reshape_norm = datax_reshape/255\n",
    "print('최대 : {}, 최소 : {}'.format(np.max(datax_reshape_norm), np.min(datax_reshape_norm)))"
   ]
  },
  {
   "cell_type": "code",
   "execution_count": 4,
   "id": "206b39d7",
   "metadata": {},
   "outputs": [
    {
     "name": "stdout",
     "output_type": "stream",
     "text": [
      "[5 0 4 1 9 2 1 3 1 4]\n",
      "[[0. 0. 0. 0. 0. 1. 0. 0. 0. 0.]\n",
      " [1. 0. 0. 0. 0. 0. 0. 0. 0. 0.]\n",
      " [0. 0. 0. 0. 1. 0. 0. 0. 0. 0.]\n",
      " [0. 1. 0. 0. 0. 0. 0. 0. 0. 0.]\n",
      " [0. 0. 0. 0. 0. 0. 0. 0. 0. 1.]\n",
      " [0. 0. 1. 0. 0. 0. 0. 0. 0. 0.]\n",
      " [0. 1. 0. 0. 0. 0. 0. 0. 0. 0.]\n",
      " [0. 0. 0. 1. 0. 0. 0. 0. 0. 0.]\n",
      " [0. 1. 0. 0. 0. 0. 0. 0. 0. 0.]\n",
      " [0. 0. 0. 0. 1. 0. 0. 0. 0. 0.]]\n"
     ]
    }
   ],
   "source": [
    "datay_onehot = to_categorical(datay)\n",
    "print(datay[0:10])\n",
    "print(datay_onehot[0:10,:])"
   ]
  },
  {
   "cell_type": "code",
   "execution_count": 5,
   "id": "f09da641",
   "metadata": {},
   "outputs": [],
   "source": [
    "# Train, Test Data Split\n",
    "from sklearn.model_selection import train_test_split\n",
    "trnx, tstx, trny, tsty = train_test_split(datax_reshape_norm, datay_onehot, test_size = 0.3, random_state =111)"
   ]
  },
  {
   "cell_type": "markdown",
   "id": "2c9a10f2",
   "metadata": {},
   "source": [
    "## Keras Sequential API\n",
    "---"
   ]
  },
  {
   "cell_type": "code",
   "execution_count": 6,
   "id": "036f74da",
   "metadata": {},
   "outputs": [],
   "source": [
    "input_shape = (datax_reshape_norm.shape[1],)\n",
    "\n",
    "mlp_model = models.Sequential()\n",
    "mlp_model.add(layers.Dense(units = 1000, activation = 'relu', input_shape = input_shape))\n",
    "mlp_model.add(layers.Dense(units = 2000, activation = 'relu'))\n",
    "mlp_model.add(layers.Dense(units = 1000, activation = 'relu'))\n",
    "mlp_model.add(layers.Dense(units = 10, activation = 'softmax'))\n",
    "mlp_model.compile(optimizer = 'Adam', loss = 'categorical_crossentropy', metrics=['accuracy'])"
   ]
  },
  {
   "cell_type": "code",
   "execution_count": 7,
   "id": "c9f922f8",
   "metadata": {},
   "outputs": [
    {
     "name": "stdout",
     "output_type": "stream",
     "text": [
      "Model: \"sequential\"\n",
      "_________________________________________________________________\n",
      " Layer (type)                Output Shape              Param #   \n",
      "=================================================================\n",
      " dense (Dense)               (None, 1000)              785000    \n",
      "                                                                 \n",
      " dense_1 (Dense)             (None, 2000)              2002000   \n",
      "                                                                 \n",
      " dense_2 (Dense)             (None, 1000)              2001000   \n",
      "                                                                 \n",
      " dense_3 (Dense)             (None, 10)                10010     \n",
      "                                                                 \n",
      "=================================================================\n",
      "Total params: 4,798,010\n",
      "Trainable params: 4,798,010\n",
      "Non-trainable params: 0\n",
      "_________________________________________________________________\n"
     ]
    }
   ],
   "source": [
    "mlp_model.summary()"
   ]
  },
  {
   "cell_type": "code",
   "execution_count": 8,
   "id": "2118cd37",
   "metadata": {},
   "outputs": [
    {
     "name": "stdout",
     "output_type": "stream",
     "text": [
      "Epoch 1/100\n",
      "840/840 [==============================] - 34s 41ms/step - loss: 0.2195 - accuracy: 0.9327 - val_loss: 0.1404 - val_accuracy: 0.9579\n",
      "Epoch 2/100\n",
      "840/840 [==============================] - 34s 40ms/step - loss: 0.1037 - accuracy: 0.9696 - val_loss: 0.1267 - val_accuracy: 0.9636\n",
      "Epoch 3/100\n",
      "840/840 [==============================] - 34s 40ms/step - loss: 0.0763 - accuracy: 0.9764 - val_loss: 0.1118 - val_accuracy: 0.9693\n",
      "Epoch 4/100\n",
      "840/840 [==============================] - 33s 40ms/step - loss: 0.0587 - accuracy: 0.9824 - val_loss: 0.1389 - val_accuracy: 0.9658\n",
      "Epoch 5/100\n",
      "840/840 [==============================] - 34s 40ms/step - loss: 0.0471 - accuracy: 0.9864 - val_loss: 0.1205 - val_accuracy: 0.9695\n",
      "Epoch 6/100\n",
      "840/840 [==============================] - 34s 40ms/step - loss: 0.0451 - accuracy: 0.9856 - val_loss: 0.1224 - val_accuracy: 0.9726\n",
      "Epoch 7/100\n",
      "840/840 [==============================] - 33s 40ms/step - loss: 0.0378 - accuracy: 0.9893 - val_loss: 0.1166 - val_accuracy: 0.9766\n",
      "Epoch 8/100\n",
      "840/840 [==============================] - 34s 40ms/step - loss: 0.0317 - accuracy: 0.9907 - val_loss: 0.1266 - val_accuracy: 0.9755\n",
      "Epoch 9/100\n",
      "840/840 [==============================] - 34s 41ms/step - loss: 0.0296 - accuracy: 0.9912 - val_loss: 0.1090 - val_accuracy: 0.9783\n",
      "Epoch 10/100\n",
      "840/840 [==============================] - 35s 41ms/step - loss: 0.0269 - accuracy: 0.9925 - val_loss: 0.1094 - val_accuracy: 0.9769\n",
      "Epoch 11/100\n",
      "840/840 [==============================] - 35s 42ms/step - loss: 0.0261 - accuracy: 0.9925 - val_loss: 0.1726 - val_accuracy: 0.9732\n",
      "Epoch 12/100\n",
      "840/840 [==============================] - 34s 40ms/step - loss: 0.0249 - accuracy: 0.9933 - val_loss: 0.1223 - val_accuracy: 0.9751\n",
      "Epoch 13/100\n",
      "840/840 [==============================] - 33s 40ms/step - loss: 0.0237 - accuracy: 0.9933 - val_loss: 0.1374 - val_accuracy: 0.9769\n",
      "Epoch 14/100\n",
      "840/840 [==============================] - 34s 40ms/step - loss: 0.0189 - accuracy: 0.9949 - val_loss: 0.1467 - val_accuracy: 0.9791\n",
      "Epoch 15/100\n",
      "840/840 [==============================] - 35s 42ms/step - loss: 0.0194 - accuracy: 0.9950 - val_loss: 0.1623 - val_accuracy: 0.9767\n",
      "Epoch 16/100\n",
      "840/840 [==============================] - 36s 43ms/step - loss: 0.0220 - accuracy: 0.9942 - val_loss: 0.1603 - val_accuracy: 0.9766\n",
      "Epoch 17/100\n",
      "840/840 [==============================] - 33s 39ms/step - loss: 0.0214 - accuracy: 0.9944 - val_loss: 0.1666 - val_accuracy: 0.9768\n",
      "Epoch 18/100\n",
      "840/840 [==============================] - 34s 41ms/step - loss: 0.0232 - accuracy: 0.9947 - val_loss: 0.1405 - val_accuracy: 0.9781\n",
      "Epoch 19/100\n",
      "840/840 [==============================] - 33s 39ms/step - loss: 0.0146 - accuracy: 0.9965 - val_loss: 0.1599 - val_accuracy: 0.9769\n",
      "Epoch 20/100\n",
      "840/840 [==============================] - 33s 40ms/step - loss: 0.0186 - accuracy: 0.9957 - val_loss: 0.1463 - val_accuracy: 0.9801\n",
      "Epoch 21/100\n",
      "840/840 [==============================] - 33s 39ms/step - loss: 0.0205 - accuracy: 0.9955 - val_loss: 0.2121 - val_accuracy: 0.9754\n",
      "Epoch 22/100\n",
      "840/840 [==============================] - 33s 39ms/step - loss: 0.0181 - accuracy: 0.9955 - val_loss: 0.1705 - val_accuracy: 0.9787\n",
      "Epoch 23/100\n",
      "840/840 [==============================] - 32s 38ms/step - loss: 0.0160 - accuracy: 0.9962 - val_loss: 0.1680 - val_accuracy: 0.9804\n",
      "Epoch 24/100\n",
      "840/840 [==============================] - 32s 39ms/step - loss: 0.0097 - accuracy: 0.9978 - val_loss: 0.1499 - val_accuracy: 0.9809\n",
      "Epoch 25/100\n",
      "840/840 [==============================] - 35s 41ms/step - loss: 0.0143 - accuracy: 0.9967 - val_loss: 0.1874 - val_accuracy: 0.9782\n",
      "Epoch 26/100\n",
      "840/840 [==============================] - 33s 40ms/step - loss: 0.0180 - accuracy: 0.9965 - val_loss: 0.1721 - val_accuracy: 0.9797\n",
      "Epoch 27/100\n",
      "840/840 [==============================] - 34s 40ms/step - loss: 0.0202 - accuracy: 0.9957 - val_loss: 0.1956 - val_accuracy: 0.9776\n",
      "Epoch 28/100\n",
      "840/840 [==============================] - 33s 40ms/step - loss: 0.0116 - accuracy: 0.9971 - val_loss: 0.1953 - val_accuracy: 0.9809\n",
      "Epoch 29/100\n",
      "840/840 [==============================] - 34s 40ms/step - loss: 0.0141 - accuracy: 0.9973 - val_loss: 0.1964 - val_accuracy: 0.9782\n",
      "Epoch 30/100\n",
      "840/840 [==============================] - 34s 41ms/step - loss: 0.0148 - accuracy: 0.9970 - val_loss: 0.1736 - val_accuracy: 0.9816\n",
      "Epoch 31/100\n",
      "840/840 [==============================] - 33s 39ms/step - loss: 0.0164 - accuracy: 0.9965 - val_loss: 0.1753 - val_accuracy: 0.9799\n",
      "Epoch 32/100\n",
      "840/840 [==============================] - 33s 39ms/step - loss: 0.0115 - accuracy: 0.9975 - val_loss: 0.2568 - val_accuracy: 0.9776\n",
      "Epoch 33/100\n",
      "840/840 [==============================] - 33s 39ms/step - loss: 0.0115 - accuracy: 0.9975 - val_loss: 0.1854 - val_accuracy: 0.9799\n",
      "Epoch 34/100\n",
      "840/840 [==============================] - 33s 39ms/step - loss: 0.0201 - accuracy: 0.9960 - val_loss: 0.1848 - val_accuracy: 0.9789\n",
      "Epoch 35/100\n",
      "840/840 [==============================] - 33s 39ms/step - loss: 0.0077 - accuracy: 0.9985 - val_loss: 0.2224 - val_accuracy: 0.9807\n",
      "Epoch 36/100\n",
      "840/840 [==============================] - 33s 40ms/step - loss: 0.0116 - accuracy: 0.9981 - val_loss: 0.2210 - val_accuracy: 0.9772\n",
      "Epoch 37/100\n",
      "840/840 [==============================] - 33s 40ms/step - loss: 0.0133 - accuracy: 0.9975 - val_loss: 0.2175 - val_accuracy: 0.9792\n",
      "Epoch 38/100\n",
      "840/840 [==============================] - 33s 40ms/step - loss: 0.0188 - accuracy: 0.9963 - val_loss: 0.2382 - val_accuracy: 0.9783\n",
      "Epoch 39/100\n",
      "840/840 [==============================] - 33s 40ms/step - loss: 0.0057 - accuracy: 0.9986 - val_loss: 0.2295 - val_accuracy: 0.9797\n",
      "Epoch 40/100\n",
      "840/840 [==============================] - 33s 40ms/step - loss: 0.0161 - accuracy: 0.9970 - val_loss: 0.2492 - val_accuracy: 0.9796\n",
      "Epoch 41/100\n",
      "840/840 [==============================] - 33s 40ms/step - loss: 0.0152 - accuracy: 0.9975 - val_loss: 0.3324 - val_accuracy: 0.9782\n",
      "Epoch 42/100\n",
      "840/840 [==============================] - 33s 40ms/step - loss: 0.0107 - accuracy: 0.9982 - val_loss: 0.2325 - val_accuracy: 0.9816\n",
      "Epoch 43/100\n",
      "840/840 [==============================] - 33s 40ms/step - loss: 0.0154 - accuracy: 0.9977 - val_loss: 0.2497 - val_accuracy: 0.9828\n",
      "Epoch 44/100\n",
      "840/840 [==============================] - 33s 40ms/step - loss: 0.0147 - accuracy: 0.9977 - val_loss: 0.2357 - val_accuracy: 0.9806\n",
      "Epoch 45/100\n",
      "840/840 [==============================] - 33s 40ms/step - loss: 0.0091 - accuracy: 0.9986 - val_loss: 0.2606 - val_accuracy: 0.9792\n",
      "Epoch 46/100\n",
      "840/840 [==============================] - 33s 40ms/step - loss: 0.0176 - accuracy: 0.9976 - val_loss: 0.2365 - val_accuracy: 0.9826\n",
      "Epoch 47/100\n",
      "840/840 [==============================] - 33s 39ms/step - loss: 0.0074 - accuracy: 0.9984 - val_loss: 0.2308 - val_accuracy: 0.9819\n",
      "Epoch 48/100\n",
      "840/840 [==============================] - 33s 39ms/step - loss: 0.0072 - accuracy: 0.9988 - val_loss: 0.2405 - val_accuracy: 0.9818\n",
      "Epoch 49/100\n",
      "840/840 [==============================] - 33s 40ms/step - loss: 0.0097 - accuracy: 0.9986 - val_loss: 0.2556 - val_accuracy: 0.9807\n",
      "Epoch 50/100\n",
      "840/840 [==============================] - 33s 40ms/step - loss: 0.0192 - accuracy: 0.9972 - val_loss: 0.2295 - val_accuracy: 0.9796\n",
      "Epoch 51/100\n",
      "840/840 [==============================] - 33s 39ms/step - loss: 0.0150 - accuracy: 0.9976 - val_loss: 0.2735 - val_accuracy: 0.9803\n",
      "Epoch 52/100\n",
      "840/840 [==============================] - 34s 40ms/step - loss: 0.0110 - accuracy: 0.9983 - val_loss: 0.2586 - val_accuracy: 0.9817\n",
      "Epoch 53/100\n",
      "840/840 [==============================] - 35s 42ms/step - loss: 0.0077 - accuracy: 0.9985 - val_loss: 0.2672 - val_accuracy: 0.9797\n",
      "Epoch 54/100\n",
      "840/840 [==============================] - 34s 41ms/step - loss: 0.0184 - accuracy: 0.9974 - val_loss: 0.2443 - val_accuracy: 0.9798\n",
      "Epoch 55/100\n",
      "840/840 [==============================] - 36s 42ms/step - loss: 0.0045 - accuracy: 0.9994 - val_loss: 0.2645 - val_accuracy: 0.9798\n",
      "Epoch 56/100\n",
      "840/840 [==============================] - 34s 41ms/step - loss: 0.0216 - accuracy: 0.9976 - val_loss: 0.2450 - val_accuracy: 0.9802\n",
      "Epoch 57/100\n"
     ]
    },
    {
     "name": "stdout",
     "output_type": "stream",
     "text": [
      "840/840 [==============================] - 34s 41ms/step - loss: 0.0074 - accuracy: 0.9986 - val_loss: 0.2049 - val_accuracy: 0.9822\n",
      "Epoch 58/100\n",
      "840/840 [==============================] - 35s 41ms/step - loss: 0.0031 - accuracy: 0.9991 - val_loss: 0.2801 - val_accuracy: 0.9816\n",
      "Epoch 59/100\n",
      "840/840 [==============================] - 34s 40ms/step - loss: 0.0133 - accuracy: 0.9976 - val_loss: 0.2689 - val_accuracy: 0.9797\n",
      "Epoch 60/100\n",
      "840/840 [==============================] - 34s 40ms/step - loss: 0.0074 - accuracy: 0.9988 - val_loss: 0.2631 - val_accuracy: 0.9798\n",
      "Epoch 61/100\n",
      "840/840 [==============================] - 35s 41ms/step - loss: 0.0101 - accuracy: 0.9982 - val_loss: 0.2361 - val_accuracy: 0.9812\n",
      "Epoch 62/100\n",
      "840/840 [==============================] - 34s 41ms/step - loss: 0.0075 - accuracy: 0.9988 - val_loss: 0.2623 - val_accuracy: 0.9811\n",
      "Epoch 63/100\n",
      "840/840 [==============================] - 34s 41ms/step - loss: 0.0100 - accuracy: 0.9983 - val_loss: 0.4265 - val_accuracy: 0.9763\n",
      "Epoch 64/100\n",
      "840/840 [==============================] - 34s 41ms/step - loss: 0.0169 - accuracy: 0.9975 - val_loss: 0.3151 - val_accuracy: 0.9791\n",
      "Epoch 65/100\n",
      "840/840 [==============================] - 34s 41ms/step - loss: 0.0111 - accuracy: 0.9982 - val_loss: 0.2737 - val_accuracy: 0.9817\n",
      "Epoch 66/100\n",
      "840/840 [==============================] - 35s 42ms/step - loss: 0.0019 - accuracy: 0.9995 - val_loss: 0.3633 - val_accuracy: 0.9832\n",
      "Epoch 67/100\n",
      "840/840 [==============================] - 35s 42ms/step - loss: 0.0141 - accuracy: 0.9979 - val_loss: 0.3000 - val_accuracy: 0.9750\n",
      "Epoch 68/100\n",
      "840/840 [==============================] - 35s 42ms/step - loss: 0.0085 - accuracy: 0.9987 - val_loss: 0.3721 - val_accuracy: 0.9761\n",
      "Epoch 69/100\n",
      "840/840 [==============================] - 35s 42ms/step - loss: 0.0160 - accuracy: 0.9976 - val_loss: 0.3399 - val_accuracy: 0.9756\n",
      "Epoch 70/100\n",
      "840/840 [==============================] - 35s 42ms/step - loss: 0.0074 - accuracy: 0.9986 - val_loss: 0.2905 - val_accuracy: 0.9814\n",
      "Epoch 71/100\n",
      "840/840 [==============================] - 34s 41ms/step - loss: 0.0045 - accuracy: 0.9992 - val_loss: 0.2999 - val_accuracy: 0.9822\n",
      "Epoch 72/100\n",
      "840/840 [==============================] - 36s 42ms/step - loss: 0.0089 - accuracy: 0.9984 - val_loss: 0.4661 - val_accuracy: 0.9782\n",
      "Epoch 73/100\n",
      "840/840 [==============================] - 35s 41ms/step - loss: 0.0198 - accuracy: 0.9973 - val_loss: 0.2899 - val_accuracy: 0.9814\n",
      "Epoch 74/100\n",
      "840/840 [==============================] - 35s 41ms/step - loss: 0.0015 - accuracy: 0.9996 - val_loss: 0.3617 - val_accuracy: 0.9818\n",
      "Epoch 75/100\n",
      "840/840 [==============================] - 39s 46ms/step - loss: 0.0052 - accuracy: 0.9991 - val_loss: 0.3217 - val_accuracy: 0.9769\n",
      "Epoch 76/100\n",
      "840/840 [==============================] - 40s 47ms/step - loss: 0.0261 - accuracy: 0.9971 - val_loss: 0.2386 - val_accuracy: 0.9791\n",
      "Epoch 77/100\n",
      "840/840 [==============================] - 37s 44ms/step - loss: 0.0083 - accuracy: 0.9990 - val_loss: 0.3482 - val_accuracy: 0.9794\n",
      "Epoch 78/100\n",
      "840/840 [==============================] - 40s 47ms/step - loss: 0.0107 - accuracy: 0.9989 - val_loss: 0.2942 - val_accuracy: 0.9793\n",
      "Epoch 79/100\n",
      "840/840 [==============================] - 38s 45ms/step - loss: 0.0024 - accuracy: 0.9995 - val_loss: 0.2912 - val_accuracy: 0.9812\n",
      "Epoch 80/100\n",
      "840/840 [==============================] - 37s 45ms/step - loss: 0.0029 - accuracy: 0.9994 - val_loss: 0.3311 - val_accuracy: 0.9807\n",
      "Epoch 81/100\n",
      "840/840 [==============================] - 37s 44ms/step - loss: 0.0103 - accuracy: 0.9985 - val_loss: 0.3660 - val_accuracy: 0.9779\n",
      "Epoch 82/100\n",
      "840/840 [==============================] - 37s 44ms/step - loss: 0.0138 - accuracy: 0.9979 - val_loss: 0.3172 - val_accuracy: 0.9785\n",
      "Epoch 83/100\n",
      "840/840 [==============================] - 36s 43ms/step - loss: 0.0039 - accuracy: 0.9994 - val_loss: 0.3158 - val_accuracy: 0.9827\n",
      "Epoch 84/100\n",
      "840/840 [==============================] - 37s 44ms/step - loss: 0.0066 - accuracy: 0.9988 - val_loss: 0.3339 - val_accuracy: 0.9821\n",
      "Epoch 85/100\n",
      "840/840 [==============================] - 32s 38ms/step - loss: 0.0160 - accuracy: 0.9976 - val_loss: 0.3504 - val_accuracy: 0.9807\n",
      "Epoch 86/100\n",
      "840/840 [==============================] - 35s 42ms/step - loss: 0.0086 - accuracy: 0.9990 - val_loss: 0.4306 - val_accuracy: 0.9778\n",
      "Epoch 87/100\n",
      "840/840 [==============================] - 34s 40ms/step - loss: 0.0081 - accuracy: 0.9989 - val_loss: 0.3556 - val_accuracy: 0.9809\n",
      "Epoch 88/100\n",
      "840/840 [==============================] - 33s 40ms/step - loss: 0.0120 - accuracy: 0.9984 - val_loss: 0.4267 - val_accuracy: 0.9773\n",
      "Epoch 89/100\n",
      "840/840 [==============================] - 34s 40ms/step - loss: 0.0241 - accuracy: 0.9984 - val_loss: 0.3823 - val_accuracy: 0.9793\n",
      "Epoch 90/100\n",
      "840/840 [==============================] - 35s 42ms/step - loss: 0.0055 - accuracy: 0.9991 - val_loss: 0.3843 - val_accuracy: 0.9814\n",
      "Epoch 91/100\n",
      "840/840 [==============================] - 33s 40ms/step - loss: 0.0018 - accuracy: 0.9997 - val_loss: 0.3673 - val_accuracy: 0.9828\n",
      "Epoch 92/100\n",
      "840/840 [==============================] - 33s 40ms/step - loss: 0.0071 - accuracy: 0.9991 - val_loss: 0.5393 - val_accuracy: 0.9802\n",
      "Epoch 93/100\n",
      "840/840 [==============================] - 33s 39ms/step - loss: 0.0142 - accuracy: 0.9982 - val_loss: 0.4336 - val_accuracy: 0.9787\n",
      "Epoch 94/100\n",
      "840/840 [==============================] - 33s 40ms/step - loss: 0.0183 - accuracy: 0.9977 - val_loss: 0.4257 - val_accuracy: 0.9812\n",
      "Epoch 95/100\n",
      "840/840 [==============================] - 33s 39ms/step - loss: 0.0171 - accuracy: 0.9982 - val_loss: 0.3568 - val_accuracy: 0.9809\n",
      "Epoch 96/100\n",
      "840/840 [==============================] - 33s 39ms/step - loss: 0.0014 - accuracy: 0.9997 - val_loss: 0.3974 - val_accuracy: 0.9831\n",
      "Epoch 97/100\n",
      "840/840 [==============================] - 33s 39ms/step - loss: 7.4496e-04 - accuracy: 0.9999 - val_loss: 0.4084 - val_accuracy: 0.9827\n",
      "Epoch 98/100\n",
      "840/840 [==============================] - 33s 40ms/step - loss: 1.8287e-05 - accuracy: 1.0000 - val_loss: 0.4286 - val_accuracy: 0.9832\n",
      "Epoch 99/100\n",
      "840/840 [==============================] - 33s 40ms/step - loss: 3.4902e-06 - accuracy: 1.0000 - val_loss: 0.4341 - val_accuracy: 0.9833\n",
      "Epoch 100/100\n",
      "840/840 [==============================] - 33s 40ms/step - loss: 1.9127e-06 - accuracy: 1.0000 - val_loss: 0.4401 - val_accuracy: 0.9834\n"
     ]
    }
   ],
   "source": [
    "history = mlp_model.fit(trnx, trny, validation_data = [tstx, tsty], batch_size = 50, epochs =100)"
   ]
  },
  {
   "cell_type": "code",
   "execution_count": 11,
   "id": "2e852afd",
   "metadata": {},
   "outputs": [
    {
     "data": {
      "image/png": "[encoded data removed]",
      "text/plain": [
       "<Figure size 432x288 with 1 Axes>"
      ]
     },
     "metadata": {
      "needs_background": "light"
     },
     "output_type": "display_data"
    },
    {
     "data": {
      "image/png": "[encoded data removed]",
      "text/plain": [
       "<Figure size 432x288 with 1 Axes>"
      ]
     },
     "metadata": {
      "needs_background": "light"
     },
     "output_type": "display_data"
    },
    {
     "name": "stdout",
     "output_type": "stream",
     "text": [
      "0.9834444522857666\n",
      "0.9834444522857666\n"
     ]
    }
   ],
   "source": [
    "# 학습과정 시각화\n",
    "plt.plot(history.history['accuracy'])\n",
    "plt.plot(history.history['val_accuracy'])\n",
    "plt.title('model accuracy')\n",
    "plt.ylabel('accuracy')\n",
    "plt.xlabel('epoch')\n",
    "plt.legend(['train','test'], loc = 'upper left')\n",
    "plt.show()\n",
    "\n",
    "# Train data / Test Data Loss 시각화\n",
    "plt.plot(history.history['loss'])\n",
    "plt.plot(history.history['val_loss'])\n",
    "plt.title('model loss')\n",
    "plt.ylabel('loss')\n",
    "plt.xlabel('epoch')\n",
    "plt.legend(['train', 'test'], loc = 'upper left')\n",
    "plt.show() \n",
    "print(history.history['val_accuracy'][-1])\n",
    "print(np.max(history.history['val_accuracy']))\n"
   ]
  },
  {
   "cell_type": "markdown",
   "id": "fde4887c",
   "metadata": {},
   "source": [
    "## Keras Functional API\n",
    "---"
   ]
  },
  {
   "cell_type": "code",
   "execution_count": 14,
   "id": "96f8f92c",
   "metadata": {},
   "outputs": [
    {
     "name": "stdout",
     "output_type": "stream",
     "text": [
      "Model: \"model\"\n",
      "_________________________________________________________________\n",
      " Layer (type)                Output Shape              Param #   \n",
      "=================================================================\n",
      " input_2 (InputLayer)        [(None, 784)]             0         \n",
      "                                                                 \n",
      " dense_8 (Dense)             (None, 1000)              785000    \n",
      "                                                                 \n",
      " dense_9 (Dense)             (None, 2000)              2002000   \n",
      "                                                                 \n",
      " dense_10 (Dense)            (None, 1000)              2001000   \n",
      "                                                                 \n",
      " dense_11 (Dense)            (None, 10)                10010     \n",
      "                                                                 \n",
      "=================================================================\n",
      "Total params: 4,798,010\n",
      "Trainable params: 4,798,010\n",
      "Non-trainable params: 0\n",
      "_________________________________________________________________\n"
     ]
    }
   ],
   "source": [
    "input_shape = (datax_reshape_norm.shape[1], )\n",
    "\n",
    "visible = layers.Input(shape=input_shape)\n",
    "hidden1 = layers.Dense(1000,activation = 'relu')(visible)\n",
    "hidden2 = layers.Dense(2000,activation = 'relu')(hidden1)\n",
    "hidden3 = layers.Dense(1000,activation = 'relu')(hidden2)\n",
    "output =  layers.Dense(10,activation = 'softmax')(hidden3)\n",
    "\n",
    "mlp_function = models.Model(visible,output)\n",
    "mlp_function.summary()"
   ]
  },
  {
   "cell_type": "code",
   "execution_count": 15,
   "id": "0dae9b9b",
   "metadata": {},
   "outputs": [
    {
     "name": "stdout",
     "output_type": "stream",
     "text": [
      "Epoch 1/100\n",
      "840/840 [==============================] - 56s 66ms/step - loss: 0.2834 - accuracy: 0.9216 - val_loss: 0.1688 - val_accuracy: 0.9576\n",
      "Epoch 2/100\n",
      "840/840 [==============================] - 53s 63ms/step - loss: 0.1543 - accuracy: 0.9621 - val_loss: 0.1729 - val_accuracy: 0.9631\n",
      "Epoch 3/100\n",
      "840/840 [==============================] - 56s 67ms/step - loss: 0.1233 - accuracy: 0.9709 - val_loss: 0.1966 - val_accuracy: 0.9663\n",
      "Epoch 4/100\n",
      "840/840 [==============================] - 55s 65ms/step - loss: 0.1009 - accuracy: 0.9757 - val_loss: 0.1702 - val_accuracy: 0.9731\n",
      "Epoch 5/100\n",
      "840/840 [==============================] - 56s 67ms/step - loss: 0.0936 - accuracy: 0.9795 - val_loss: 0.1762 - val_accuracy: 0.9739\n",
      "Epoch 6/100\n",
      "840/840 [==============================] - 60s 72ms/step - loss: 0.0822 - accuracy: 0.9827 - val_loss: 0.3432 - val_accuracy: 0.9571\n",
      "Epoch 7/100\n",
      "840/840 [==============================] - 57s 67ms/step - loss: 0.0717 - accuracy: 0.9840 - val_loss: 0.2615 - val_accuracy: 0.9736\n",
      "Epoch 8/100\n",
      "840/840 [==============================] - 57s 67ms/step - loss: 0.0729 - accuracy: 0.9860 - val_loss: 0.2864 - val_accuracy: 0.9730\n",
      "Epoch 9/100\n",
      "840/840 [==============================] - 56s 66ms/step - loss: 0.0635 - accuracy: 0.9878 - val_loss: 0.3190 - val_accuracy: 0.9723\n",
      "Epoch 10/100\n",
      "840/840 [==============================] - 58s 69ms/step - loss: 0.0588 - accuracy: 0.9892 - val_loss: 0.3657 - val_accuracy: 0.9709\n",
      "Epoch 11/100\n",
      "840/840 [==============================] - 57s 68ms/step - loss: 0.0556 - accuracy: 0.9903 - val_loss: 0.3642 - val_accuracy: 0.9706\n",
      "Epoch 12/100\n",
      "840/840 [==============================] - 61s 73ms/step - loss: 0.0566 - accuracy: 0.9905 - val_loss: 0.3773 - val_accuracy: 0.9716\n",
      "Epoch 13/100\n",
      "840/840 [==============================] - 62s 74ms/step - loss: 0.0500 - accuracy: 0.9920 - val_loss: 0.3497 - val_accuracy: 0.9772\n",
      "Epoch 14/100\n",
      "840/840 [==============================] - 58s 69ms/step - loss: 0.0417 - accuracy: 0.9933 - val_loss: 0.3846 - val_accuracy: 0.9793\n",
      "Epoch 15/100\n",
      "840/840 [==============================] - 56s 67ms/step - loss: 0.0434 - accuracy: 0.9931 - val_loss: 0.4472 - val_accuracy: 0.9734\n",
      "Epoch 16/100\n",
      "840/840 [==============================] - 57s 67ms/step - loss: 0.0474 - accuracy: 0.9938 - val_loss: 0.4826 - val_accuracy: 0.9736\n",
      "Epoch 17/100\n",
      "840/840 [==============================] - 57s 67ms/step - loss: 0.0426 - accuracy: 0.9945 - val_loss: 0.4196 - val_accuracy: 0.9776\n",
      "Epoch 18/100\n",
      "840/840 [==============================] - 56s 67ms/step - loss: 0.0359 - accuracy: 0.9945 - val_loss: 0.6980 - val_accuracy: 0.9738\n",
      "Epoch 19/100\n",
      "840/840 [==============================] - 57s 68ms/step - loss: 0.0452 - accuracy: 0.9946 - val_loss: 0.6420 - val_accuracy: 0.9737\n",
      "Epoch 20/100\n",
      "840/840 [==============================] - 57s 68ms/step - loss: 0.0329 - accuracy: 0.9957 - val_loss: 0.4564 - val_accuracy: 0.9771\n",
      "Epoch 21/100\n",
      "840/840 [==============================] - 58s 69ms/step - loss: 0.0394 - accuracy: 0.9960 - val_loss: 0.4849 - val_accuracy: 0.9786\n",
      "Epoch 22/100\n",
      "840/840 [==============================] - 59s 71ms/step - loss: 0.0299 - accuracy: 0.9964 - val_loss: 0.6671 - val_accuracy: 0.9778\n",
      "Epoch 23/100\n",
      "840/840 [==============================] - 58s 69ms/step - loss: 0.0300 - accuracy: 0.9963 - val_loss: 0.5302 - val_accuracy: 0.9792\n",
      "Epoch 24/100\n",
      "840/840 [==============================] - 61s 72ms/step - loss: 0.0319 - accuracy: 0.9965 - val_loss: 0.5743 - val_accuracy: 0.9780\n",
      "Epoch 25/100\n",
      "840/840 [==============================] - 64s 76ms/step - loss: 0.0274 - accuracy: 0.9966 - val_loss: 0.6180 - val_accuracy: 0.9769\n",
      "Epoch 26/100\n",
      "840/840 [==============================] - 58s 69ms/step - loss: 0.0309 - accuracy: 0.9970 - val_loss: 0.7381 - val_accuracy: 0.9781\n",
      "Epoch 27/100\n",
      "840/840 [==============================] - 61s 73ms/step - loss: 0.0282 - accuracy: 0.9970 - val_loss: 0.6755 - val_accuracy: 0.9773\n",
      "Epoch 28/100\n",
      "840/840 [==============================] - 60s 71ms/step - loss: 0.0291 - accuracy: 0.9972 - val_loss: 0.6458 - val_accuracy: 0.9789\n",
      "Epoch 29/100\n",
      "840/840 [==============================] - 64s 76ms/step - loss: 0.0269 - accuracy: 0.9973 - val_loss: 0.7189 - val_accuracy: 0.9763\n",
      "Epoch 30/100\n",
      "840/840 [==============================] - 70s 83ms/step - loss: 0.0336 - accuracy: 0.9973 - val_loss: 0.6512 - val_accuracy: 0.9799\n",
      "Epoch 31/100\n",
      "840/840 [==============================] - 56s 67ms/step - loss: 0.0312 - accuracy: 0.9973 - val_loss: 0.7232 - val_accuracy: 0.9794\n",
      "Epoch 32/100\n",
      "840/840 [==============================] - 56s 67ms/step - loss: 0.0280 - accuracy: 0.9981 - val_loss: 0.6417 - val_accuracy: 0.9809\n",
      "Epoch 33/100\n",
      "840/840 [==============================] - 64s 76ms/step - loss: 0.0170 - accuracy: 0.9981 - val_loss: 0.6544 - val_accuracy: 0.9807\n",
      "Epoch 34/100\n",
      "840/840 [==============================] - 62s 74ms/step - loss: 0.0183 - accuracy: 0.9984 - val_loss: 0.8776 - val_accuracy: 0.9802\n",
      "Epoch 35/100\n",
      "840/840 [==============================] - 59s 71ms/step - loss: 0.0264 - accuracy: 0.9979 - val_loss: 0.7209 - val_accuracy: 0.9806\n",
      "Epoch 36/100\n",
      "840/840 [==============================] - 59s 70ms/step - loss: 0.0178 - accuracy: 0.9981 - val_loss: 0.7952 - val_accuracy: 0.9807\n",
      "Epoch 37/100\n",
      "840/840 [==============================] - 59s 71ms/step - loss: 0.0188 - accuracy: 0.9983 - val_loss: 0.8199 - val_accuracy: 0.9791\n",
      "Epoch 38/100\n",
      "840/840 [==============================] - 57s 68ms/step - loss: 0.0149 - accuracy: 0.9984 - val_loss: 0.9044 - val_accuracy: 0.9799\n",
      "Epoch 39/100\n",
      "840/840 [==============================] - 56s 67ms/step - loss: 0.0206 - accuracy: 0.9983 - val_loss: 0.8999 - val_accuracy: 0.9799\n",
      "Epoch 40/100\n",
      "840/840 [==============================] - 56s 67ms/step - loss: 0.0243 - accuracy: 0.9980 - val_loss: 0.9005 - val_accuracy: 0.9797\n",
      "Epoch 41/100\n",
      "840/840 [==============================] - 56s 67ms/step - loss: 0.0149 - accuracy: 0.9985 - val_loss: 0.8639 - val_accuracy: 0.9800\n",
      "Epoch 42/100\n",
      "840/840 [==============================] - 56s 67ms/step - loss: 0.0153 - accuracy: 0.9987 - val_loss: 0.8302 - val_accuracy: 0.9806\n",
      "Epoch 43/100\n",
      "840/840 [==============================] - 69s 82ms/step - loss: 0.0183 - accuracy: 0.9982 - val_loss: 0.8751 - val_accuracy: 0.9786\n",
      "Epoch 44/100\n",
      "840/840 [==============================] - 72s 86ms/step - loss: 0.0173 - accuracy: 0.9987 - val_loss: 1.0044 - val_accuracy: 0.9777\n",
      "Epoch 45/100\n",
      "840/840 [==============================] - 72s 86ms/step - loss: 0.0191 - accuracy: 0.9984 - val_loss: 1.0257 - val_accuracy: 0.9788\n",
      "Epoch 46/100\n",
      "840/840 [==============================] - 73s 86ms/step - loss: 0.0149 - accuracy: 0.9989 - val_loss: 1.0024 - val_accuracy: 0.9778\n",
      "Epoch 47/100\n",
      "840/840 [==============================] - 72s 86ms/step - loss: 0.0183 - accuracy: 0.9986 - val_loss: 1.0152 - val_accuracy: 0.9818\n",
      "Epoch 48/100\n",
      "840/840 [==============================] - 70s 84ms/step - loss: 0.0146 - accuracy: 0.9990 - val_loss: 0.9995 - val_accuracy: 0.9803\n",
      "Epoch 49/100\n",
      "840/840 [==============================] - 68s 82ms/step - loss: 0.0166 - accuracy: 0.9988 - val_loss: 0.8106 - val_accuracy: 0.9817\n",
      "Epoch 50/100\n",
      "840/840 [==============================] - 69s 82ms/step - loss: 0.0153 - accuracy: 0.9986 - val_loss: 1.0659 - val_accuracy: 0.9806\n",
      "Epoch 51/100\n",
      "840/840 [==============================] - 69s 82ms/step - loss: 0.0090 - accuracy: 0.9989 - val_loss: 1.1288 - val_accuracy: 0.9808\n",
      "Epoch 52/100\n",
      "840/840 [==============================] - 70s 83ms/step - loss: 0.0234 - accuracy: 0.9987 - val_loss: 1.0708 - val_accuracy: 0.9778\n",
      "Epoch 53/100\n",
      "840/840 [==============================] - 69s 82ms/step - loss: 0.0171 - accuracy: 0.9985 - val_loss: 0.9756 - val_accuracy: 0.9812\n",
      "Epoch 54/100\n",
      "840/840 [==============================] - 69s 82ms/step - loss: 0.0122 - accuracy: 0.9993 - val_loss: 0.9748 - val_accuracy: 0.9809\n",
      "Epoch 55/100\n",
      "840/840 [==============================] - 68s 81ms/step - loss: 0.0109 - accuracy: 0.9991 - val_loss: 0.9320 - val_accuracy: 0.9810\n",
      "Epoch 56/100\n",
      "840/840 [==============================] - 69s 82ms/step - loss: 0.0074 - accuracy: 0.9995 - val_loss: 1.0565 - val_accuracy: 0.9819\n",
      "Epoch 57/100\n"
     ]
    },
    {
     "name": "stdout",
     "output_type": "stream",
     "text": [
      "840/840 [==============================] - 69s 82ms/step - loss: 0.0047 - accuracy: 0.9995 - val_loss: 1.1055 - val_accuracy: 0.9806\n",
      "Epoch 58/100\n",
      "840/840 [==============================] - 68s 81ms/step - loss: 0.0092 - accuracy: 0.9994 - val_loss: 1.0780 - val_accuracy: 0.9811\n",
      "Epoch 59/100\n",
      "840/840 [==============================] - 69s 82ms/step - loss: 0.0141 - accuracy: 0.9991 - val_loss: 1.0841 - val_accuracy: 0.9813\n",
      "Epoch 60/100\n",
      "840/840 [==============================] - 69s 82ms/step - loss: 0.0124 - accuracy: 0.9992 - val_loss: 1.1082 - val_accuracy: 0.9807\n",
      "Epoch 61/100\n",
      "840/840 [==============================] - 68s 81ms/step - loss: 0.0117 - accuracy: 0.9991 - val_loss: 1.1924 - val_accuracy: 0.9793\n",
      "Epoch 62/100\n",
      "840/840 [==============================] - 69s 82ms/step - loss: 0.0143 - accuracy: 0.9991 - val_loss: 1.0123 - val_accuracy: 0.9811\n",
      "Epoch 63/100\n",
      "840/840 [==============================] - 69s 82ms/step - loss: 0.0085 - accuracy: 0.9993 - val_loss: 1.2077 - val_accuracy: 0.9809\n",
      "Epoch 64/100\n",
      "840/840 [==============================] - 68s 81ms/step - loss: 0.0070 - accuracy: 0.9995 - val_loss: 1.0897 - val_accuracy: 0.9811\n",
      "Epoch 65/100\n",
      "840/840 [==============================] - 69s 82ms/step - loss: 0.0074 - accuracy: 0.9994 - val_loss: 1.1281 - val_accuracy: 0.9812\n",
      "Epoch 66/100\n",
      "840/840 [==============================] - 69s 82ms/step - loss: 0.0040 - accuracy: 0.9998 - val_loss: 1.2194 - val_accuracy: 0.9803\n",
      "Epoch 67/100\n",
      "840/840 [==============================] - 68s 81ms/step - loss: 0.0173 - accuracy: 0.9990 - val_loss: 1.0861 - val_accuracy: 0.9803\n",
      "Epoch 68/100\n",
      "840/840 [==============================] - 69s 82ms/step - loss: 0.0081 - accuracy: 0.9994 - val_loss: 1.0831 - val_accuracy: 0.9809\n",
      "Epoch 69/100\n",
      "840/840 [==============================] - 68s 82ms/step - loss: 0.0082 - accuracy: 0.9994 - val_loss: 1.1301 - val_accuracy: 0.9812\n",
      "Epoch 70/100\n",
      "840/840 [==============================] - 68s 81ms/step - loss: 0.0060 - accuracy: 0.9996 - val_loss: 1.0793 - val_accuracy: 0.9811\n",
      "Epoch 71/100\n",
      "840/840 [==============================] - 68s 81ms/step - loss: 0.0054 - accuracy: 0.9995 - val_loss: 1.2497 - val_accuracy: 0.9792\n",
      "Epoch 72/100\n",
      "840/840 [==============================] - 68s 81ms/step - loss: 0.0093 - accuracy: 0.9994 - val_loss: 1.1173 - val_accuracy: 0.9799\n",
      "Epoch 73/100\n",
      "840/840 [==============================] - 68s 81ms/step - loss: 0.0020 - accuracy: 0.9997 - val_loss: 1.2463 - val_accuracy: 0.9819\n",
      "Epoch 74/100\n",
      "840/840 [==============================] - 68s 81ms/step - loss: 0.0068 - accuracy: 0.9995 - val_loss: 1.2361 - val_accuracy: 0.9819\n",
      "Epoch 75/100\n",
      "840/840 [==============================] - 68s 81ms/step - loss: 0.0044 - accuracy: 0.9996 - val_loss: 1.2380 - val_accuracy: 0.9816\n",
      "Epoch 76/100\n",
      "840/840 [==============================] - 68s 81ms/step - loss: 0.0064 - accuracy: 0.9996 - val_loss: 1.2426 - val_accuracy: 0.9827\n",
      "Epoch 77/100\n",
      "840/840 [==============================] - 68s 81ms/step - loss: 0.0094 - accuracy: 0.9995 - val_loss: 1.2807 - val_accuracy: 0.9816\n",
      "Epoch 78/100\n",
      "840/840 [==============================] - 68s 81ms/step - loss: 0.0068 - accuracy: 0.9995 - val_loss: 1.1667 - val_accuracy: 0.9820\n",
      "Epoch 79/100\n",
      "840/840 [==============================] - 68s 81ms/step - loss: 0.0020 - accuracy: 0.9999 - val_loss: 1.1886 - val_accuracy: 0.9820\n",
      "Epoch 80/100\n",
      "840/840 [==============================] - 68s 81ms/step - loss: 0.0023 - accuracy: 0.9998 - val_loss: 1.2233 - val_accuracy: 0.9810\n",
      "Epoch 81/100\n",
      "840/840 [==============================] - 68s 81ms/step - loss: 0.0111 - accuracy: 0.9993 - val_loss: 1.3095 - val_accuracy: 0.9808\n",
      "Epoch 82/100\n",
      "840/840 [==============================] - 68s 81ms/step - loss: 0.0046 - accuracy: 0.9997 - val_loss: 1.1013 - val_accuracy: 0.9829\n",
      "Epoch 83/100\n",
      "840/840 [==============================] - 68s 81ms/step - loss: 0.0039 - accuracy: 0.9999 - val_loss: 1.1675 - val_accuracy: 0.9819\n",
      "Epoch 84/100\n",
      "840/840 [==============================] - 68s 81ms/step - loss: 0.0065 - accuracy: 0.9996 - val_loss: 1.1231 - val_accuracy: 0.9830\n",
      "Epoch 85/100\n",
      "840/840 [==============================] - 68s 81ms/step - loss: 0.0051 - accuracy: 0.9996 - val_loss: 1.1896 - val_accuracy: 0.9822\n",
      "Epoch 86/100\n",
      "840/840 [==============================] - 68s 81ms/step - loss: 0.0068 - accuracy: 0.9996 - val_loss: 1.2931 - val_accuracy: 0.9812\n",
      "Epoch 87/100\n",
      "840/840 [==============================] - 68s 81ms/step - loss: 0.0031 - accuracy: 0.9997 - val_loss: 1.1482 - val_accuracy: 0.9825\n",
      "Epoch 88/100\n",
      "840/840 [==============================] - 68s 81ms/step - loss: 0.0018 - accuracy: 0.9998 - val_loss: 1.3348 - val_accuracy: 0.9806\n",
      "Epoch 89/100\n",
      "840/840 [==============================] - 68s 82ms/step - loss: 8.1278e-04 - accuracy: 0.9999 - val_loss: 1.1052 - val_accuracy: 0.9827\n",
      "Epoch 90/100\n",
      "840/840 [==============================] - 68s 81ms/step - loss: 5.8558e-04 - accuracy: 1.0000 - val_loss: 1.1388 - val_accuracy: 0.9816\n",
      "Epoch 91/100\n",
      "840/840 [==============================] - 68s 81ms/step - loss: 0.0015 - accuracy: 0.9999 - val_loss: 1.0463 - val_accuracy: 0.9829\n",
      "Epoch 92/100\n",
      "840/840 [==============================] - 68s 81ms/step - loss: 0.0014 - accuracy: 0.9998 - val_loss: 1.2288 - val_accuracy: 0.9810\n",
      "Epoch 93/100\n",
      "840/840 [==============================] - 68s 81ms/step - loss: 0.0054 - accuracy: 0.9998 - val_loss: 1.1609 - val_accuracy: 0.9810\n",
      "Epoch 94/100\n",
      "840/840 [==============================] - 68s 81ms/step - loss: 0.0044 - accuracy: 0.9998 - val_loss: 1.1142 - val_accuracy: 0.9823\n",
      "Epoch 95/100\n",
      "840/840 [==============================] - 68s 81ms/step - loss: 0.0031 - accuracy: 0.9999 - val_loss: 1.1385 - val_accuracy: 0.9815\n",
      "Epoch 96/100\n",
      "840/840 [==============================] - 68s 81ms/step - loss: 0.0043 - accuracy: 0.9998 - val_loss: 1.3746 - val_accuracy: 0.9788\n",
      "Epoch 97/100\n",
      "840/840 [==============================] - 68s 81ms/step - loss: 0.0031 - accuracy: 0.9998 - val_loss: 1.2798 - val_accuracy: 0.9804\n",
      "Epoch 98/100\n",
      "840/840 [==============================] - 68s 81ms/step - loss: 0.0030 - accuracy: 0.9997 - val_loss: 1.2399 - val_accuracy: 0.9807\n",
      "Epoch 99/100\n",
      "840/840 [==============================] - 68s 81ms/step - loss: 8.1093e-04 - accuracy: 0.9998 - val_loss: 1.1083 - val_accuracy: 0.9832\n",
      "Epoch 100/100\n",
      "840/840 [==============================] - 68s 81ms/step - loss: 0.0023 - accuracy: 0.9998 - val_loss: 1.1608 - val_accuracy: 0.9829\n"
     ]
    }
   ],
   "source": [
    "mlp_function.compile(optimizer='RMsprop', loss = 'categorical_crossentropy', metrics=['accuracy'])\n",
    "history = mlp_function.fit(trnx, trny, validation_data = [tstx,tsty], batch_size=50, epochs=100)"
   ]
  },
  {
   "cell_type": "code",
   "execution_count": 17,
   "id": "30eb6cc7",
   "metadata": {},
   "outputs": [
    {
     "data": {
      "image/png": "[encoded data removed]",
      "text/plain": [
       "<Figure size 432x288 with 1 Axes>"
      ]
     },
     "metadata": {
      "needs_background": "light"
     },
     "output_type": "display_data"
    },
    {
     "data": {
      "image/png": "[encoded data removed]",
      "text/plain": [
       "<Figure size 432x288 with 1 Axes>"
      ]
     },
     "metadata": {
      "needs_background": "light"
     },
     "output_type": "display_data"
    },
    {
     "name": "stdout",
     "output_type": "stream",
     "text": [
      "0.9828888773918152\n",
      "0.983222246170044\n"
     ]
    }
   ],
   "source": [
    "# 학습과정 시각화\n",
    "plt.plot(history.history['accuracy'])\n",
    "plt.plot(history.history['val_accuracy'])\n",
    "plt.title('model accuracy')\n",
    "plt.ylabel('accuracy')\n",
    "plt.xlabel('epoch')\n",
    "plt.legend(['train','test'], loc = 'upper left')\n",
    "plt.show()\n",
    "\n",
    "# Train data / Test Data Loss 시각화\n",
    "plt.plot(history.history['loss'])\n",
    "plt.plot(history.history['val_loss'])\n",
    "plt.title('model loss')\n",
    "plt.ylabel('loss')\n",
    "plt.xlabel('epoch')\n",
    "plt.legend(['train', 'test'], loc = 'upper left')\n",
    "plt.show() \n",
    "print(history.history['val_accuracy'][-1])\n",
    "print(np.max(history.history['val_accuracy']))"
   ]
  },
  {
   "cell_type": "markdown",
   "id": "14e8ed13",
   "metadata": {},
   "source": [
    "---"
   ]
  }
 ],
 "metadata": {
  "kernelspec": {
   "display_name": "Python 3 (ipykernel)",
   "language": "python",
   "name": "python3"
  },
  "language_info": {
   "codemirror_mode": {
    "name": "ipython",
    "version": 3
   },
   "file_extension": ".py",
   "mimetype": "text/x-python",
   "name": "python",
   "nbconvert_exporter": "python",
   "pygments_lexer": "ipython3",
   "version": "3.9.7"
  }
 },
 "nbformat": 4,
 "nbformat_minor": 5
}
