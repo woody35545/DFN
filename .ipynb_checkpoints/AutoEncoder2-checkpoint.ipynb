{
 "cells": [
  {
   "cell_type": "code",
   "execution_count": 8,
   "id": "7370ab6b",
   "metadata": {},
   "outputs": [],
   "source": [
    "import numpy as np\n",
    "import pandas as pd\n",
    "import matplotlib.pyplot as plt\n",
    "%matplotlib inline\n",
    "\n",
    "from os.path import join\n",
    "\n",
    "import tensorflow as tf\n",
    "from tensorflow.keras import layers, models, optimizers\n",
    "from tensorflow.keras.utils import to_categorical\n"
   ]
  },
  {
   "cell_type": "code",
   "execution_count": 9,
   "id": "5249289e",
   "metadata": {},
   "outputs": [
    {
     "name": "stdout",
     "output_type": "stream",
     "text": [
      "최대: 1.0, 최소: 0.0\n"
     ]
    }
   ],
   "source": [
    "datax = np.load(join('data', 'MNIST.npy'))\n",
    "datay = np.load(join('data', 'Label.npy'))\n",
    "datax_norm = datax/255\n",
    "print('최대: {}, 최소: {}'.format(np.max(datax_norm), np.min(datax_norm)))\n",
    "\n",
    "datax_reshape = datax_norm.reshape([60000,28*28])"
   ]
  },
  {
   "cell_type": "code",
   "execution_count": 10,
   "id": "849efe9f",
   "metadata": {},
   "outputs": [],
   "source": [
    "# Input\n",
    "input_shape = (28*28,)\n",
    "input_tensor = layers.Input(input_shape)\n",
    "\n",
    "# Encoder\n",
    "encoder1 = layers.Dense(300, activation = 'relu')(input_tensor)\n",
    "encoder2 = layers.Dense(200, activation = 'relu')(encoder1)\n",
    "\n",
    "latent_tensor = encoder2\n",
    "\n",
    "# Decoder\n",
    "decoder1 = layers.Dense(200, activation='relu')(latent_tensor)\n",
    "decoder2 = layers.Dense(300, activation='relu')(decoder1)\n",
    "\n",
    "# Outputs\n",
    "reconstruction_output = layers.Dense(28*28, activation='relu')(decoder2)"
   ]
  },
  {
   "cell_type": "code",
   "execution_count": 11,
   "id": "78b731e0",
   "metadata": {},
   "outputs": [
    {
     "name": "stdout",
     "output_type": "stream",
     "text": [
      "Model: \"model_2\"\n",
      "_________________________________________________________________\n",
      " Layer (type)                Output Shape              Param #   \n",
      "=================================================================\n",
      " input_3 (InputLayer)        [(None, 784)]             0         \n",
      "                                                                 \n",
      " dense_11 (Dense)            (None, 300)               235500    \n",
      "                                                                 \n",
      " dense_12 (Dense)            (None, 200)               60200     \n",
      "                                                                 \n",
      " dense_13 (Dense)            (None, 200)               40200     \n",
      "                                                                 \n",
      " dense_14 (Dense)            (None, 300)               60300     \n",
      "                                                                 \n",
      " dense_15 (Dense)            (None, 784)               235984    \n",
      "                                                                 \n",
      "=================================================================\n",
      "Total params: 632,184\n",
      "Trainable params: 632,184\n",
      "Non-trainable params: 0\n",
      "_________________________________________________________________\n"
     ]
    }
   ],
   "source": [
    "ae = models.Model(input_tensor, reconstruction_output)\n",
    "ae.compile(optimizer = 'Adam', loss = 'mse')\n",
    "ae.summary()"
   ]
  },
  {
   "cell_type": "code",
   "execution_count": 12,
   "id": "00629250",
   "metadata": {},
   "outputs": [
    {
     "name": "stdout",
     "output_type": "stream",
     "text": [
      "Epoch 1/10\n",
      "59/59 - 2s - loss: 0.0502 - 2s/epoch - 26ms/step\n",
      "Epoch 2/10\n",
      "59/59 - 1s - loss: 0.0201 - 1s/epoch - 18ms/step\n",
      "Epoch 3/10\n",
      "59/59 - 1s - loss: 0.0145 - 1s/epoch - 18ms/step\n",
      "Epoch 4/10\n",
      "59/59 - 1s - loss: 0.0122 - 1s/epoch - 19ms/step\n",
      "Epoch 5/10\n",
      "59/59 - 1s - loss: 0.0111 - 1s/epoch - 19ms/step\n",
      "Epoch 6/10\n",
      "59/59 - 1s - loss: 0.0102 - 1s/epoch - 20ms/step\n",
      "Epoch 7/10\n",
      "59/59 - 1s - loss: 0.0095 - 1s/epoch - 20ms/step\n",
      "Epoch 8/10\n",
      "59/59 - 1s - loss: 0.0091 - 1s/epoch - 20ms/step\n",
      "Epoch 9/10\n",
      "59/59 - 1s - loss: 0.0087 - 1s/epoch - 21ms/step\n",
      "Epoch 10/10\n",
      "59/59 - 1s - loss: 0.0084 - 1s/epoch - 21ms/step\n"
     ]
    },
    {
     "data": {
      "text/plain": [
       "<keras.callbacks.History at 0x200113be7c0>"
      ]
     },
     "execution_count": 12,
     "metadata": {},
     "output_type": "execute_result"
    }
   ],
   "source": [
    "epoch = 10\n",
    "batch_size = 1024\n",
    "\n",
    "ae.fit(datax_reshape, datax_reshape,\n",
    "      batch_size = batch_size,\n",
    "      epochs=epoch,\n",
    "      verbose =2)"
   ]
  },
  {
   "cell_type": "code",
   "execution_count": 13,
   "id": "4f9f1e51",
   "metadata": {},
   "outputs": [
    {
     "data": {
      "text/plain": [
       "<matplotlib.image.AxesImage at 0x200128b2250>"
      ]
     },
     "execution_count": 13,
     "metadata": {},
     "output_type": "execute_result"
    },
    {
     "data": {
      "image/png": "[encoded data removed]",
      "text/plain": [
       "<Figure size 432x288 with 1 Axes>"
      ]
     },
     "metadata": {
      "needs_background": "light"
     },
     "output_type": "display_data"
    }
   ],
   "source": [
    "# 원본 데이터 확인\n",
    "plt.imshow(datax_reshape[0].reshape(28,28))"
   ]
  },
  {
   "cell_type": "code",
   "execution_count": 14,
   "id": "f9abcdb9",
   "metadata": {},
   "outputs": [
    {
     "data": {
      "text/plain": [
       "<matplotlib.image.AxesImage at 0x20011434070>"
      ]
     },
     "execution_count": 14,
     "metadata": {},
     "output_type": "execute_result"
    },
    {
     "data": {
      "image/png": "[encoded data removed]",
      "text/plain": [
       "<Figure size 432x288 with 1 Axes>"
      ]
     },
     "metadata": {
      "needs_background": "light"
     },
     "output_type": "display_data"
    }
   ],
   "source": [
    "# 데이터를 모델에 넣고 복원시킨다\n",
    "decoded_img = ae.predict(datax_reshape[0].reshape(1,28*28))\n",
    "decoded_img = decoded_img.reshape(28,28)\n",
    "\n",
    "# 복원된 데이터 확인\n",
    "plt.imshow(decoded_img)"
   ]
  },
  {
   "cell_type": "code",
   "execution_count": 15,
   "id": "dfb992ca",
   "metadata": {},
   "outputs": [
    {
     "data": {
      "text/plain": [
       "0.22744406446809146"
      ]
     },
     "execution_count": 15,
     "metadata": {},
     "output_type": "execute_result"
    }
   ],
   "source": [
    "np.mean(np.abs(datax_reshape[0] - decoded_img.reshape(784,1)))\n"
   ]
  },
  {
   "cell_type": "code",
   "execution_count": 16,
   "id": "a6de3339",
   "metadata": {},
   "outputs": [
    {
     "data": {
      "text/plain": [
       "<matplotlib.image.AxesImage at 0x20013097550>"
      ]
     },
     "execution_count": 16,
     "metadata": {},
     "output_type": "execute_result"
    },
    {
     "data": {
      "image/png": "[encoded data removed]",
      "text/plain": [
       "<Figure size 432x288 with 1 Axes>"
      ]
     },
     "metadata": {
      "needs_background": "light"
     },
     "output_type": "display_data"
    }
   ],
   "source": [
    "# np.random을 통해 random 값을 넣어서 이상치 탐지 확인\n",
    "decoded_img = ae.predict(np.random.rand(784,1).reshape(1,28*28))\n",
    "decoded_img = decoded_img.reshape(28,28)\n",
    "plt.imshow(decoded_img)"
   ]
  },
  {
   "cell_type": "code",
   "execution_count": null,
   "id": "c80ba5bc",
   "metadata": {},
   "outputs": [],
   "source": []
  }
 ],
 "metadata": {
  "kernelspec": {
   "display_name": "Python 3",
   "language": "python",
   "name": "python3"
  },
  "language_info": {
   "codemirror_mode": {
    "name": "ipython",
    "version": 3
   },
   "file_extension": ".py",
   "mimetype": "text/x-python",
   "name": "python",
   "nbconvert_exporter": "python",
   "pygments_lexer": "ipython3",
   "version": "3.8.8"
  }
 },
 "nbformat": 4,
 "nbformat_minor": 5
}
