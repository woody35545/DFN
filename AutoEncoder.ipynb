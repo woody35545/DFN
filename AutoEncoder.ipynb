{
 "cells": [
  {
   "cell_type": "code",
   "execution_count": 2,
   "id": "1ff71697",
   "metadata": {},
   "outputs": [],
   "source": [
    "import numpy as np\n",
    "import pandas as pd\n",
    "import matplotlib.pyplot as plt\n",
    "%matplotlib inline\n",
    "\n",
    "from os.path import join\n",
    "\n",
    "import tensorflow as tf\n",
    "from tensorflow.keras import layers, models, optimizers\n",
    "from tensorflow.keras.utils import to_categorical"
   ]
  },
  {
   "cell_type": "code",
   "execution_count": 3,
   "id": "97b242bb",
   "metadata": {},
   "outputs": [],
   "source": [
    "datax = np.load(join('data', 'MNIST.npy'))\n",
    "datay = np.load(join('data', 'Label.npy'))"
   ]
  },
  {
   "cell_type": "code",
   "execution_count": 4,
   "id": "fedda8f6",
   "metadata": {},
   "outputs": [
    {
     "name": "stdout",
     "output_type": "stream",
     "text": [
      "최대: 1.0, 최소: 0.0\n"
     ]
    }
   ],
   "source": [
    "datax_norm = datax/255\n",
    "print('최대: {}, 최소: {}'.format(np.max(datax_norm), np.min(datax_norm)))"
   ]
  },
  {
   "cell_type": "code",
   "execution_count": 5,
   "id": "a22a96af",
   "metadata": {},
   "outputs": [],
   "source": [
    "datax_reshape = datax_norm.reshape([60000,28*28])"
   ]
  },
  {
   "cell_type": "code",
   "execution_count": 8,
   "id": "7317be60",
   "metadata": {},
   "outputs": [],
   "source": [
    "## input\n",
    "input_shape = (28*28,)\n",
    "input_tensor = layers.Input(input_shape)\n",
    "\n",
    "## Encoder\n",
    "encoder1 = layers.Dense(500, activation = 'relu')(input_tensor)\n",
    "encoder2 = layers.Dense(300, activation = 'relu')(encoder1)\n",
    "encoder3 = layers.Dense(100, activation = 'relu')(encoder2)\n",
    "\n",
    "latent_tensor = encoder3\n",
    "\n",
    "## Decoder\n",
    "decoder1 = layers.Dense(300, activation='relu')(latent_tensor)\n",
    "decoder2 = layers.Dense(500, activation='relu')(decoder1)\n",
    "\n",
    "## Outputs\n",
    "reconstruction_output = layers.Dense(28*28, activation='relu')(decoder2)\n"
   ]
  },
  {
   "cell_type": "code",
   "execution_count": 10,
   "id": "f8b5c884",
   "metadata": {},
   "outputs": [],
   "source": [
    "ae = models.Model(input_tensor, reconstruction_output)\n",
    "ae.compile(optimizer = 'Adam', loss = 'mse')"
   ]
  },
  {
   "cell_type": "code",
   "execution_count": 12,
   "id": "debadc30",
   "metadata": {},
   "outputs": [
    {
     "name": "stdout",
     "output_type": "stream",
     "text": [
      "Model: \"model\"\n",
      "_________________________________________________________________\n",
      " Layer (type)                Output Shape              Param #   \n",
      "=================================================================\n",
      " input_3 (InputLayer)        [(None, 784)]             0         \n",
      "                                                                 \n",
      " dense_4 (Dense)             (None, 500)               392500    \n",
      "                                                                 \n",
      " dense_5 (Dense)             (None, 300)               150300    \n",
      "                                                                 \n",
      " dense_6 (Dense)             (None, 100)               30100     \n",
      "                                                                 \n",
      " dense_7 (Dense)             (None, 300)               30300     \n",
      "                                                                 \n",
      " dense_8 (Dense)             (None, 500)               150500    \n",
      "                                                                 \n",
      " dense_9 (Dense)             (None, 784)               392784    \n",
      "                                                                 \n",
      "=================================================================\n",
      "Total params: 1,146,484\n",
      "Trainable params: 1,146,484\n",
      "Non-trainable params: 0\n",
      "_________________________________________________________________\n"
     ]
    }
   ],
   "source": [
    "ae.summary()"
   ]
  },
  {
   "cell_type": "code",
   "execution_count": 19,
   "id": "80031d06",
   "metadata": {},
   "outputs": [
    {
     "name": "stdout",
     "output_type": "stream",
     "text": [
      "Epoch 1/10\n",
      "59/59 - 2s - loss: 0.0091 - 2s/epoch - 31ms/step\n",
      "Epoch 2/10\n",
      "59/59 - 2s - loss: 0.0089 - 2s/epoch - 29ms/step\n",
      "Epoch 3/10\n",
      "59/59 - 2s - loss: 0.0086 - 2s/epoch - 30ms/step\n",
      "Epoch 4/10\n",
      "59/59 - 2s - loss: 0.0084 - 2s/epoch - 31ms/step\n",
      "Epoch 5/10\n",
      "59/59 - 2s - loss: 0.0082 - 2s/epoch - 32ms/step\n",
      "Epoch 6/10\n",
      "59/59 - 2s - loss: 0.0082 - 2s/epoch - 35ms/step\n",
      "Epoch 7/10\n",
      "59/59 - 2s - loss: 0.0080 - 2s/epoch - 34ms/step\n",
      "Epoch 8/10\n",
      "59/59 - 2s - loss: 0.0079 - 2s/epoch - 34ms/step\n",
      "Epoch 9/10\n",
      "59/59 - 2s - loss: 0.0078 - 2s/epoch - 35ms/step\n",
      "Epoch 10/10\n",
      "59/59 - 2s - loss: 0.0077 - 2s/epoch - 36ms/step\n"
     ]
    },
    {
     "data": {
      "text/plain": [
       "<keras.callbacks.History at 0x1e3784e12b0>"
      ]
     },
     "execution_count": 19,
     "metadata": {},
     "output_type": "execute_result"
    }
   ],
   "source": [
    "epoch = 10\n",
    "batch_size = 1024\n",
    "\n",
    "ae.fit(datax_reshape, datax_reshape,\n",
    "      batch_size = batch_size,\n",
    "      epochs=epoch,\n",
    "      verbose =2)"
   ]
  },
  {
   "cell_type": "code",
   "execution_count": 20,
   "id": "fd8d1e81",
   "metadata": {},
   "outputs": [
    {
     "data": {
      "text/plain": [
       "<matplotlib.image.AxesImage at 0x1e3785cc6a0>"
      ]
     },
     "execution_count": 20,
     "metadata": {},
     "output_type": "execute_result"
    },
    {
     "data": {
      "image/png": "[encoded data removed]",
      "text/plain": [
       "<Figure size 432x288 with 1 Axes>"
      ]
     },
     "metadata": {
      "needs_background": "light"
     },
     "output_type": "display_data"
    }
   ],
   "source": [
    "# 원본 데이터 확인\n",
    "plt.imshow(datax_reshape[0].reshape(28,28))"
   ]
  },
  {
   "cell_type": "code",
   "execution_count": 23,
   "id": "b2e211c4",
   "metadata": {},
   "outputs": [
    {
     "data": {
      "text/plain": [
       "<matplotlib.image.AxesImage at 0x1e3786d2b80>"
      ]
     },
     "execution_count": 23,
     "metadata": {},
     "output_type": "execute_result"
    },
    {
     "data": {
      "image/png": "[encoded data removed]",
      "text/plain": [
       "<Figure size 432x288 with 1 Axes>"
      ]
     },
     "metadata": {
      "needs_background": "light"
     },
     "output_type": "display_data"
    }
   ],
   "source": [
    "# 데이터를 모델에 넣고 복원시킨다\n",
    "decoded_img = ae.predict(datax_reshape[0].reshape(1,28*28))\n",
    "decoded_img = decoded_img.reshape(28,28)\n",
    "\n",
    "# 복원된 데이터 확인\n",
    "plt.imshow(decoded_img)"
   ]
  },
  {
   "cell_type": "code",
   "execution_count": 24,
   "id": "63d50db7",
   "metadata": {},
   "outputs": [
    {
     "data": {
      "text/plain": [
       "0.22679925493256167"
      ]
     },
     "execution_count": 24,
     "metadata": {},
     "output_type": "execute_result"
    }
   ],
   "source": [
    "np.mean(np.abs(datax_reshape[0] - decoded_img.reshape(784,1)))"
   ]
  },
  {
   "cell_type": "code",
   "execution_count": 25,
   "id": "a0d2bbeb",
   "metadata": {},
   "outputs": [],
   "source": [
    "random_vector = np.random.rand(784,1)"
   ]
  },
  {
   "cell_type": "code",
   "execution_count": 26,
   "id": "57ca66e6",
   "metadata": {},
   "outputs": [
    {
     "data": {
      "text/plain": [
       "<matplotlib.image.AxesImage at 0x1e37872d700>"
      ]
     },
     "execution_count": 26,
     "metadata": {},
     "output_type": "execute_result"
    },
    {
     "data": {
      "image/png": "[encoded data removed]",
      "text/plain": [
       "<Figure size 432x288 with 1 Axes>"
      ]
     },
     "metadata": {
      "needs_background": "light"
     },
     "output_type": "display_data"
    }
   ],
   "source": [
    "# 데이터를 모델에 넣고 복원시킴\n",
    "decoded_img = ae.predict(random_vector.reshape(1,28*28))\n",
    "decoded_img = decoded_img.reshape(28,28)\n",
    "\n",
    "# 복원된 데이터 확인\n",
    "plt.imshow(decoded_img)"
   ]
  },
  {
   "cell_type": "code",
   "execution_count": 27,
   "id": "527fa133",
   "metadata": {},
   "outputs": [
    {
     "data": {
      "text/plain": [
       "0.4363685779686767"
      ]
     },
     "execution_count": 27,
     "metadata": {},
     "output_type": "execute_result"
    }
   ],
   "source": [
    "np.mean(np.abs(random_vector - decoded_img.reshape(784,1)))"
   ]
  },
  {
   "cell_type": "code",
   "execution_count": 28,
   "id": "7cabe756",
   "metadata": {},
   "outputs": [
    {
     "name": "stdout",
     "output_type": "stream",
     "text": [
      "최대: 1.0, 최소: 0.0\n"
     ]
    }
   ],
   "source": [
    "datax_reshape = datax_norm.reshape((-1,28,28,1))\n",
    "print('최대: {}, 최소: {}'.format(np.max(datax_norm), np.min(datax_norm)))"
   ]
  },
  {
   "cell_type": "code",
   "execution_count": 29,
   "id": "feea731a",
   "metadata": {},
   "outputs": [],
   "source": [
    "## Input\n",
    "input_shape = (28,28,1)\n",
    "input_tensor = layers.Input(input_shape)\n",
    "\n",
    "## Encoder\n",
    "conv1 = layers.Conv2D(1,(3,3), padding='same', activation='relu')(input_tensor)\n",
    "pooling1 = layers.MaxPool2D(name='imlatent_layer')(conv1)\n",
    "\n",
    "flatten1 = layers.Flatten()(pooling1)\n",
    "dense1 = layers.Dense(100,activation='relu', name='latent_layer')(flatten1)\n",
    "\n",
    "latent_tensor = dense1\n",
    "\n",
    "## Decoding\n",
    "\n",
    "dense2 = layers.Dense(14*14, activation='relu')(latent_tensor)\n",
    "reshaped = tf.reshape(dense2, [-1,14,14,1])\n",
    "\n",
    "upsample2 = layers.UpSampling2D()(reshaped)\n",
    "deconv2 = layers.Conv2DTranspose(1,(3,3), padding = 'same', activation='sigmoid')(upsample2)\n",
    "\n",
    "# Outputs\n",
    "output_tensor = deconv2\n"
   ]
  },
  {
   "cell_type": "code",
   "execution_count": 30,
   "id": "87fd3631",
   "metadata": {},
   "outputs": [],
   "source": [
    "ae = models.Model(input_tensor, output_tensor)\n",
    "ae.compile(optimizer = 'Adam', loss = 'mse')"
   ]
  },
  {
   "cell_type": "code",
   "execution_count": 31,
   "id": "75a8aa8f",
   "metadata": {},
   "outputs": [
    {
     "name": "stdout",
     "output_type": "stream",
     "text": [
      "Model: \"model_1\"\n",
      "_________________________________________________________________\n",
      " Layer (type)                Output Shape              Param #   \n",
      "=================================================================\n",
      " input_4 (InputLayer)        [(None, 28, 28, 1)]       0         \n",
      "                                                                 \n",
      " conv2d (Conv2D)             (None, 28, 28, 1)         10        \n",
      "                                                                 \n",
      " imlatent_layer (MaxPooling2  (None, 14, 14, 1)        0         \n",
      " D)                                                              \n",
      "                                                                 \n",
      " flatten (Flatten)           (None, 196)               0         \n",
      "                                                                 \n",
      " latent_layer (Dense)        (None, 100)               19700     \n",
      "                                                                 \n",
      " dense_10 (Dense)            (None, 196)               19796     \n",
      "                                                                 \n",
      " tf.reshape (TFOpLambda)     (None, 14, 14, 1)         0         \n",
      "                                                                 \n",
      " up_sampling2d (UpSampling2D  (None, 28, 28, 1)        0         \n",
      " )                                                               \n",
      "                                                                 \n",
      " conv2d_transpose (Conv2DTra  (None, 28, 28, 1)        10        \n",
      " nspose)                                                         \n",
      "                                                                 \n",
      "=================================================================\n",
      "Total params: 39,516\n",
      "Trainable params: 39,516\n",
      "Non-trainable params: 0\n",
      "_________________________________________________________________\n"
     ]
    }
   ],
   "source": [
    "ae.summary()"
   ]
  },
  {
   "cell_type": "code",
   "execution_count": 32,
   "id": "40e4b8a2",
   "metadata": {},
   "outputs": [
    {
     "name": "stdout",
     "output_type": "stream",
     "text": [
      "Epoch 1/10\n",
      "59/59 - 6s - loss: 0.1674 - 6s/epoch - 101ms/step\n",
      "Epoch 2/10\n",
      "59/59 - 6s - loss: 0.0723 - 6s/epoch - 104ms/step\n",
      "Epoch 3/10\n",
      "59/59 - 7s - loss: 0.0629 - 7s/epoch - 117ms/step\n",
      "Epoch 4/10\n",
      "59/59 - 7s - loss: 0.0557 - 7s/epoch - 123ms/step\n",
      "Epoch 5/10\n",
      "59/59 - 7s - loss: 0.0508 - 7s/epoch - 121ms/step\n",
      "Epoch 6/10\n",
      "59/59 - 8s - loss: 0.0468 - 8s/epoch - 129ms/step\n",
      "Epoch 7/10\n",
      "59/59 - 8s - loss: 0.0434 - 8s/epoch - 128ms/step\n",
      "Epoch 8/10\n",
      "59/59 - 8s - loss: 0.0407 - 8s/epoch - 129ms/step\n",
      "Epoch 9/10\n",
      "59/59 - 8s - loss: 0.0385 - 8s/epoch - 129ms/step\n",
      "Epoch 10/10\n",
      "59/59 - 8s - loss: 0.0367 - 8s/epoch - 133ms/step\n"
     ]
    },
    {
     "data": {
      "text/plain": [
       "<keras.callbacks.History at 0x1e3787906a0>"
      ]
     },
     "execution_count": 32,
     "metadata": {},
     "output_type": "execute_result"
    }
   ],
   "source": [
    "epoch=10\n",
    "batch_size=1024\n",
    "\n",
    "ae.fit(datax_reshape, datax_reshape,\n",
    "      batch_size=batch_size,\n",
    "      epochs=epoch,\n",
    "      verbose=2)"
   ]
  },
  {
   "cell_type": "code",
   "execution_count": 33,
   "id": "b462d78e",
   "metadata": {},
   "outputs": [
    {
     "data": {
      "text/plain": [
       "<matplotlib.image.AxesImage at 0x1e378895af0>"
      ]
     },
     "execution_count": 33,
     "metadata": {},
     "output_type": "execute_result"
    },
    {
     "data": {
      "image/png": "[encoded data removed]",
      "text/plain": [
       "<Figure size 432x288 with 1 Axes>"
      ]
     },
     "metadata": {
      "needs_background": "light"
     },
     "output_type": "display_data"
    }
   ],
   "source": [
    "# 원본 데이터 확인\n",
    "plt.imshow(datax_reshape[10].reshape(28,28))"
   ]
  },
  {
   "cell_type": "code",
   "execution_count": 34,
   "id": "9148ffc2",
   "metadata": {},
   "outputs": [
    {
     "data": {
      "text/plain": [
       "(28, 28, 1)"
      ]
     },
     "execution_count": 34,
     "metadata": {},
     "output_type": "execute_result"
    }
   ],
   "source": [
    "datax_reshape[10].shape"
   ]
  },
  {
   "cell_type": "code",
   "execution_count": 36,
   "id": "6da7e7c6",
   "metadata": {},
   "outputs": [
    {
     "data": {
      "text/plain": [
       "<matplotlib.image.AxesImage at 0x1e34457bb50>"
      ]
     },
     "execution_count": 36,
     "metadata": {},
     "output_type": "execute_result"
    },
    {
     "data": {
      "image/png": "[encoded data removed]",
      "text/plain": [
       "<Figure size 432x288 with 1 Axes>"
      ]
     },
     "metadata": {
      "needs_background": "light"
     },
     "output_type": "display_data"
    }
   ],
   "source": [
    "# 데이터를 모델에 넣고 복원시킴\n",
    "decoded_img = ae.predict(datax_reshape[10].reshape(1,28,28,1))\n",
    "decoded_img = decoded_img.reshape(28,28)\n",
    "\n",
    "# 복원된 데이터 확인\n",
    "plt.imshow(decoded_img)"
   ]
  },
  {
   "cell_type": "code",
   "execution_count": 38,
   "id": "10635f65",
   "metadata": {},
   "outputs": [],
   "source": [
    "intermediate_layer_model = models.Model(inputs=ae.input,\n",
    "                                       outputs = ae.get_layer('imlatent_layer').output)\n",
    "intermediate_output = intermediate_layer_model.predict(datax_reshape[10].reshape(1,28,28,1))"
   ]
  },
  {
   "cell_type": "code",
   "execution_count": 39,
   "id": "35f34963",
   "metadata": {},
   "outputs": [],
   "source": [
    "latent_vector = np.array(intermediate_output)"
   ]
  },
  {
   "cell_type": "code",
   "execution_count": 40,
   "id": "189378d4",
   "metadata": {},
   "outputs": [
    {
     "data": {
      "text/plain": [
       "<matplotlib.image.AxesImage at 0x1e3445ff730>"
      ]
     },
     "execution_count": 40,
     "metadata": {},
     "output_type": "execute_result"
    },
    {
     "data": {
      "image/png": "[encoded data removed]",
      "text/plain": [
       "<Figure size 432x288 with 1 Axes>"
      ]
     },
     "metadata": {
      "needs_background": "light"
     },
     "output_type": "display_data"
    }
   ],
   "source": [
    "plt.imshow(latent_vector.reshape(14,14))"
   ]
  },
  {
   "cell_type": "code",
   "execution_count": null,
   "id": "79267ca4",
   "metadata": {},
   "outputs": [],
   "source": []
  }
 ],
 "metadata": {
  "kernelspec": {
   "display_name": "Python 3",
   "language": "python",
   "name": "python3"
  },
  "language_info": {
   "codemirror_mode": {
    "name": "ipython",
    "version": 3
   },
   "file_extension": ".py",
   "mimetype": "text/x-python",
   "name": "python",
   "nbconvert_exporter": "python",
   "pygments_lexer": "ipython3",
   "version": "3.8.8"
  }
 },
 "nbformat": 4,
 "nbformat_minor": 5
}
